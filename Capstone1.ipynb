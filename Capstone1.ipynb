{
  "nbformat": 4,
  "nbformat_minor": 0,
  "metadata": {
    "colab": {
      "name": "Capstone1.ipynb",
      "version": "0.3.2",
      "provenance": [],
      "toc_visible": true,
      "include_colab_link": true
    },
    "kernelspec": {
      "name": "python3",
      "display_name": "Python 3"
    },
    "accelerator": "GPU"
  },
  "cells": [
    {
      "cell_type": "markdown",
      "metadata": {
        "id": "view-in-github",
        "colab_type": "text"
      },
      "source": [
        "<a href=\"https://colab.research.google.com/github/adityakolluru/Springboard/blob/master/Capstone1.ipynb\" target=\"_parent\"><img src=\"https://colab.research.google.com/assets/colab-badge.svg\" alt=\"Open In Colab\"/></a>"
      ]
    },
    {
      "metadata": {
        "id": "YBJucjbFWKju",
        "colab_type": "code",
        "colab": {}
      },
      "cell_type": "code",
      "source": [
        "from fastai.structured import *\n",
        "from fastai.column_data import *\n",
        "import os\n",
        "import json\n",
        "import numpy as np\n",
        "import pandas as pd\n",
        "from pandas.io.json import json_normalize\n",
        "import seaborn as sns\n",
        "import matplotlib.pyplot as plt"
      ],
      "execution_count": 0,
      "outputs": []
    },
    {
      "metadata": {
        "id": "BkrU_SS3Wuyx",
        "colab_type": "code",
        "colab": {
          "base_uri": "https://localhost:8080/",
          "height": 72
        },
        "outputId": "3d09fb9e-f5b4-4b94-e88c-490d4396c652"
      },
      "cell_type": "code",
      "source": [
        "#I uploaded the flattened file as it is faster as compared to the original file which had some columns in Json format\n",
        "df_train = pd.read_csv('/content/drive/My Drive/data/train_goog.csv')"
      ],
      "execution_count": 2,
      "outputs": [
        {
          "output_type": "stream",
          "text": [
            "/usr/local/lib/python3.6/dist-packages/IPython/core/interactiveshell.py:2718: DtypeWarning: Columns (49) have mixed types. Specify dtype option on import or set low_memory=False.\n",
            "  interactivity=interactivity, compiler=compiler, result=result)\n"
          ],
          "name": "stderr"
        }
      ]
    },
    {
      "metadata": {
        "id": "w7ultJyooA7f",
        "colab_type": "code",
        "colab": {
          "base_uri": "https://localhost:8080/",
          "height": 334
        },
        "outputId": "515539d0-075c-4e90-c5c7-2511e4bf040d"
      },
      "cell_type": "code",
      "source": [
        "df_train.head()"
      ],
      "execution_count": 3,
      "outputs": [
        {
          "output_type": "execute_result",
          "data": {
            "text/html": [
              "<div>\n",
              "<style scoped>\n",
              "    .dataframe tbody tr th:only-of-type {\n",
              "        vertical-align: middle;\n",
              "    }\n",
              "\n",
              "    .dataframe tbody tr th {\n",
              "        vertical-align: top;\n",
              "    }\n",
              "\n",
              "    .dataframe thead th {\n",
              "        text-align: right;\n",
              "    }\n",
              "</style>\n",
              "<table border=\"1\" class=\"dataframe\">\n",
              "  <thead>\n",
              "    <tr style=\"text-align: right;\">\n",
              "      <th></th>\n",
              "      <th>channelGrouping</th>\n",
              "      <th>date</th>\n",
              "      <th>fullVisitorId</th>\n",
              "      <th>sessionId</th>\n",
              "      <th>socialEngagementType</th>\n",
              "      <th>visitId</th>\n",
              "      <th>visitNumber</th>\n",
              "      <th>visitStartTime</th>\n",
              "      <th>device.browser</th>\n",
              "      <th>device.browserSize</th>\n",
              "      <th>...</th>\n",
              "      <th>trafficSource.adwordsClickInfo.isVideoAd</th>\n",
              "      <th>trafficSource.adwordsClickInfo.page</th>\n",
              "      <th>trafficSource.adwordsClickInfo.slot</th>\n",
              "      <th>trafficSource.campaign</th>\n",
              "      <th>trafficSource.campaignCode</th>\n",
              "      <th>trafficSource.isTrueDirect</th>\n",
              "      <th>trafficSource.keyword</th>\n",
              "      <th>trafficSource.medium</th>\n",
              "      <th>trafficSource.referralPath</th>\n",
              "      <th>trafficSource.source</th>\n",
              "    </tr>\n",
              "  </thead>\n",
              "  <tbody>\n",
              "    <tr>\n",
              "      <th>0</th>\n",
              "      <td>Organic Search</td>\n",
              "      <td>20160902</td>\n",
              "      <td>1.131660e+18</td>\n",
              "      <td>1131660440785968503_1472830385</td>\n",
              "      <td>Not Socially Engaged</td>\n",
              "      <td>1472830385</td>\n",
              "      <td>1</td>\n",
              "      <td>1472830385</td>\n",
              "      <td>Chrome</td>\n",
              "      <td>not available in demo dataset</td>\n",
              "      <td>...</td>\n",
              "      <td>NaN</td>\n",
              "      <td>NaN</td>\n",
              "      <td>NaN</td>\n",
              "      <td>(not set)</td>\n",
              "      <td>NaN</td>\n",
              "      <td>NaN</td>\n",
              "      <td>(not provided)</td>\n",
              "      <td>organic</td>\n",
              "      <td>NaN</td>\n",
              "      <td>google</td>\n",
              "    </tr>\n",
              "    <tr>\n",
              "      <th>1</th>\n",
              "      <td>Organic Search</td>\n",
              "      <td>20160902</td>\n",
              "      <td>3.773060e+17</td>\n",
              "      <td>377306020877927890_1472880147</td>\n",
              "      <td>Not Socially Engaged</td>\n",
              "      <td>1472880147</td>\n",
              "      <td>1</td>\n",
              "      <td>1472880147</td>\n",
              "      <td>Firefox</td>\n",
              "      <td>not available in demo dataset</td>\n",
              "      <td>...</td>\n",
              "      <td>NaN</td>\n",
              "      <td>NaN</td>\n",
              "      <td>NaN</td>\n",
              "      <td>(not set)</td>\n",
              "      <td>NaN</td>\n",
              "      <td>NaN</td>\n",
              "      <td>(not provided)</td>\n",
              "      <td>organic</td>\n",
              "      <td>NaN</td>\n",
              "      <td>google</td>\n",
              "    </tr>\n",
              "    <tr>\n",
              "      <th>2</th>\n",
              "      <td>Organic Search</td>\n",
              "      <td>20160902</td>\n",
              "      <td>3.895550e+18</td>\n",
              "      <td>3895546263509774583_1472865386</td>\n",
              "      <td>Not Socially Engaged</td>\n",
              "      <td>1472865386</td>\n",
              "      <td>1</td>\n",
              "      <td>1472865386</td>\n",
              "      <td>Chrome</td>\n",
              "      <td>not available in demo dataset</td>\n",
              "      <td>...</td>\n",
              "      <td>NaN</td>\n",
              "      <td>NaN</td>\n",
              "      <td>NaN</td>\n",
              "      <td>(not set)</td>\n",
              "      <td>NaN</td>\n",
              "      <td>NaN</td>\n",
              "      <td>(not provided)</td>\n",
              "      <td>organic</td>\n",
              "      <td>NaN</td>\n",
              "      <td>google</td>\n",
              "    </tr>\n",
              "    <tr>\n",
              "      <th>3</th>\n",
              "      <td>Organic Search</td>\n",
              "      <td>20160902</td>\n",
              "      <td>4.763450e+18</td>\n",
              "      <td>4763447161404445595_1472881213</td>\n",
              "      <td>Not Socially Engaged</td>\n",
              "      <td>1472881213</td>\n",
              "      <td>1</td>\n",
              "      <td>1472881213</td>\n",
              "      <td>UC Browser</td>\n",
              "      <td>not available in demo dataset</td>\n",
              "      <td>...</td>\n",
              "      <td>NaN</td>\n",
              "      <td>NaN</td>\n",
              "      <td>NaN</td>\n",
              "      <td>(not set)</td>\n",
              "      <td>NaN</td>\n",
              "      <td>NaN</td>\n",
              "      <td>google + online</td>\n",
              "      <td>organic</td>\n",
              "      <td>NaN</td>\n",
              "      <td>google</td>\n",
              "    </tr>\n",
              "    <tr>\n",
              "      <th>4</th>\n",
              "      <td>Organic Search</td>\n",
              "      <td>20160902</td>\n",
              "      <td>2.729440e+16</td>\n",
              "      <td>27294437909732085_1472822600</td>\n",
              "      <td>Not Socially Engaged</td>\n",
              "      <td>1472822600</td>\n",
              "      <td>2</td>\n",
              "      <td>1472822600</td>\n",
              "      <td>Chrome</td>\n",
              "      <td>not available in demo dataset</td>\n",
              "      <td>...</td>\n",
              "      <td>NaN</td>\n",
              "      <td>NaN</td>\n",
              "      <td>NaN</td>\n",
              "      <td>(not set)</td>\n",
              "      <td>NaN</td>\n",
              "      <td>True</td>\n",
              "      <td>(not provided)</td>\n",
              "      <td>organic</td>\n",
              "      <td>NaN</td>\n",
              "      <td>google</td>\n",
              "    </tr>\n",
              "  </tbody>\n",
              "</table>\n",
              "<p>5 rows × 55 columns</p>\n",
              "</div>"
            ],
            "text/plain": [
              "  channelGrouping      date  fullVisitorId                       sessionId  \\\n",
              "0  Organic Search  20160902   1.131660e+18  1131660440785968503_1472830385   \n",
              "1  Organic Search  20160902   3.773060e+17   377306020877927890_1472880147   \n",
              "2  Organic Search  20160902   3.895550e+18  3895546263509774583_1472865386   \n",
              "3  Organic Search  20160902   4.763450e+18  4763447161404445595_1472881213   \n",
              "4  Organic Search  20160902   2.729440e+16    27294437909732085_1472822600   \n",
              "\n",
              "   socialEngagementType     visitId  visitNumber  visitStartTime  \\\n",
              "0  Not Socially Engaged  1472830385            1      1472830385   \n",
              "1  Not Socially Engaged  1472880147            1      1472880147   \n",
              "2  Not Socially Engaged  1472865386            1      1472865386   \n",
              "3  Not Socially Engaged  1472881213            1      1472881213   \n",
              "4  Not Socially Engaged  1472822600            2      1472822600   \n",
              "\n",
              "  device.browser             device.browserSize         ...           \\\n",
              "0         Chrome  not available in demo dataset         ...            \n",
              "1        Firefox  not available in demo dataset         ...            \n",
              "2         Chrome  not available in demo dataset         ...            \n",
              "3     UC Browser  not available in demo dataset         ...            \n",
              "4         Chrome  not available in demo dataset         ...            \n",
              "\n",
              "  trafficSource.adwordsClickInfo.isVideoAd  \\\n",
              "0                                      NaN   \n",
              "1                                      NaN   \n",
              "2                                      NaN   \n",
              "3                                      NaN   \n",
              "4                                      NaN   \n",
              "\n",
              "  trafficSource.adwordsClickInfo.page trafficSource.adwordsClickInfo.slot  \\\n",
              "0                                 NaN                                 NaN   \n",
              "1                                 NaN                                 NaN   \n",
              "2                                 NaN                                 NaN   \n",
              "3                                 NaN                                 NaN   \n",
              "4                                 NaN                                 NaN   \n",
              "\n",
              "   trafficSource.campaign trafficSource.campaignCode  \\\n",
              "0               (not set)                        NaN   \n",
              "1               (not set)                        NaN   \n",
              "2               (not set)                        NaN   \n",
              "3               (not set)                        NaN   \n",
              "4               (not set)                        NaN   \n",
              "\n",
              "  trafficSource.isTrueDirect trafficSource.keyword trafficSource.medium  \\\n",
              "0                        NaN        (not provided)              organic   \n",
              "1                        NaN        (not provided)              organic   \n",
              "2                        NaN        (not provided)              organic   \n",
              "3                        NaN       google + online              organic   \n",
              "4                       True        (not provided)              organic   \n",
              "\n",
              "  trafficSource.referralPath trafficSource.source  \n",
              "0                        NaN               google  \n",
              "1                        NaN               google  \n",
              "2                        NaN               google  \n",
              "3                        NaN               google  \n",
              "4                        NaN               google  \n",
              "\n",
              "[5 rows x 55 columns]"
            ]
          },
          "metadata": {
            "tags": []
          },
          "execution_count": 3
        }
      ]
    },
    {
      "metadata": {
        "id": "4xmL8km_oDBk",
        "colab_type": "code",
        "colab": {}
      },
      "cell_type": "code",
      "source": [
        "df_test = pd.read_csv('/content/drive/My Drive/data/test_goog.csv')"
      ],
      "execution_count": 0,
      "outputs": []
    },
    {
      "metadata": {
        "id": "lCZatfc447nl",
        "colab_type": "code",
        "colab": {
          "base_uri": "https://localhost:8080/",
          "height": 334
        },
        "outputId": "3efb22dc-feeb-4a44-a256-79cca9471df5"
      },
      "cell_type": "code",
      "source": [
        "df_test.head()"
      ],
      "execution_count": 6,
      "outputs": [
        {
          "output_type": "execute_result",
          "data": {
            "text/html": [
              "<div>\n",
              "<style scoped>\n",
              "    .dataframe tbody tr th:only-of-type {\n",
              "        vertical-align: middle;\n",
              "    }\n",
              "\n",
              "    .dataframe tbody tr th {\n",
              "        vertical-align: top;\n",
              "    }\n",
              "\n",
              "    .dataframe thead th {\n",
              "        text-align: right;\n",
              "    }\n",
              "</style>\n",
              "<table border=\"1\" class=\"dataframe\">\n",
              "  <thead>\n",
              "    <tr style=\"text-align: right;\">\n",
              "      <th></th>\n",
              "      <th>channelGrouping</th>\n",
              "      <th>date</th>\n",
              "      <th>fullVisitorId</th>\n",
              "      <th>sessionId</th>\n",
              "      <th>socialEngagementType</th>\n",
              "      <th>visitId</th>\n",
              "      <th>visitNumber</th>\n",
              "      <th>visitStartTime</th>\n",
              "      <th>device.browser</th>\n",
              "      <th>device.browserSize</th>\n",
              "      <th>...</th>\n",
              "      <th>trafficSource.adwordsClickInfo.gclId</th>\n",
              "      <th>trafficSource.adwordsClickInfo.isVideoAd</th>\n",
              "      <th>trafficSource.adwordsClickInfo.page</th>\n",
              "      <th>trafficSource.adwordsClickInfo.slot</th>\n",
              "      <th>trafficSource.campaign</th>\n",
              "      <th>trafficSource.isTrueDirect</th>\n",
              "      <th>trafficSource.keyword</th>\n",
              "      <th>trafficSource.medium</th>\n",
              "      <th>trafficSource.referralPath</th>\n",
              "      <th>trafficSource.source</th>\n",
              "    </tr>\n",
              "  </thead>\n",
              "  <tbody>\n",
              "    <tr>\n",
              "      <th>0</th>\n",
              "      <td>Organic Search</td>\n",
              "      <td>20171016</td>\n",
              "      <td>6.167870e+18</td>\n",
              "      <td>6167871330617112363_1508151024</td>\n",
              "      <td>Not Socially Engaged</td>\n",
              "      <td>1508151024</td>\n",
              "      <td>2</td>\n",
              "      <td>1508151024</td>\n",
              "      <td>Chrome</td>\n",
              "      <td>not available in demo dataset</td>\n",
              "      <td>...</td>\n",
              "      <td>NaN</td>\n",
              "      <td>NaN</td>\n",
              "      <td>NaN</td>\n",
              "      <td>NaN</td>\n",
              "      <td>(not set)</td>\n",
              "      <td>True</td>\n",
              "      <td>(not provided)</td>\n",
              "      <td>organic</td>\n",
              "      <td>NaN</td>\n",
              "      <td>google</td>\n",
              "    </tr>\n",
              "    <tr>\n",
              "      <th>1</th>\n",
              "      <td>Organic Search</td>\n",
              "      <td>20171016</td>\n",
              "      <td>6.436980e+17</td>\n",
              "      <td>0643697640977915618_1508175522</td>\n",
              "      <td>Not Socially Engaged</td>\n",
              "      <td>1508175522</td>\n",
              "      <td>1</td>\n",
              "      <td>1508175522</td>\n",
              "      <td>Chrome</td>\n",
              "      <td>not available in demo dataset</td>\n",
              "      <td>...</td>\n",
              "      <td>NaN</td>\n",
              "      <td>NaN</td>\n",
              "      <td>NaN</td>\n",
              "      <td>NaN</td>\n",
              "      <td>(not set)</td>\n",
              "      <td>NaN</td>\n",
              "      <td>(not provided)</td>\n",
              "      <td>organic</td>\n",
              "      <td>NaN</td>\n",
              "      <td>google</td>\n",
              "    </tr>\n",
              "    <tr>\n",
              "      <th>2</th>\n",
              "      <td>Organic Search</td>\n",
              "      <td>20171016</td>\n",
              "      <td>6.059380e+18</td>\n",
              "      <td>6059383810968229466_1508143220</td>\n",
              "      <td>Not Socially Engaged</td>\n",
              "      <td>1508143220</td>\n",
              "      <td>1</td>\n",
              "      <td>1508143220</td>\n",
              "      <td>Chrome</td>\n",
              "      <td>not available in demo dataset</td>\n",
              "      <td>...</td>\n",
              "      <td>NaN</td>\n",
              "      <td>NaN</td>\n",
              "      <td>NaN</td>\n",
              "      <td>NaN</td>\n",
              "      <td>(not set)</td>\n",
              "      <td>NaN</td>\n",
              "      <td>(not provided)</td>\n",
              "      <td>organic</td>\n",
              "      <td>NaN</td>\n",
              "      <td>google</td>\n",
              "    </tr>\n",
              "    <tr>\n",
              "      <th>3</th>\n",
              "      <td>Organic Search</td>\n",
              "      <td>20171016</td>\n",
              "      <td>2.376720e+18</td>\n",
              "      <td>2376720078563423631_1508193530</td>\n",
              "      <td>Not Socially Engaged</td>\n",
              "      <td>1508193530</td>\n",
              "      <td>1</td>\n",
              "      <td>1508193530</td>\n",
              "      <td>Safari</td>\n",
              "      <td>not available in demo dataset</td>\n",
              "      <td>...</td>\n",
              "      <td>NaN</td>\n",
              "      <td>NaN</td>\n",
              "      <td>NaN</td>\n",
              "      <td>NaN</td>\n",
              "      <td>(not set)</td>\n",
              "      <td>NaN</td>\n",
              "      <td>(not provided)</td>\n",
              "      <td>organic</td>\n",
              "      <td>NaN</td>\n",
              "      <td>google</td>\n",
              "    </tr>\n",
              "    <tr>\n",
              "      <th>4</th>\n",
              "      <td>Organic Search</td>\n",
              "      <td>20171016</td>\n",
              "      <td>2.314540e+18</td>\n",
              "      <td>2314544520795440038_1508217442</td>\n",
              "      <td>Not Socially Engaged</td>\n",
              "      <td>1508217442</td>\n",
              "      <td>1</td>\n",
              "      <td>1508217442</td>\n",
              "      <td>Safari</td>\n",
              "      <td>not available in demo dataset</td>\n",
              "      <td>...</td>\n",
              "      <td>NaN</td>\n",
              "      <td>NaN</td>\n",
              "      <td>NaN</td>\n",
              "      <td>NaN</td>\n",
              "      <td>(not set)</td>\n",
              "      <td>NaN</td>\n",
              "      <td>(not provided)</td>\n",
              "      <td>organic</td>\n",
              "      <td>NaN</td>\n",
              "      <td>google</td>\n",
              "    </tr>\n",
              "  </tbody>\n",
              "</table>\n",
              "<p>5 rows × 53 columns</p>\n",
              "</div>"
            ],
            "text/plain": [
              "  channelGrouping      date  fullVisitorId                       sessionId  \\\n",
              "0  Organic Search  20171016   6.167870e+18  6167871330617112363_1508151024   \n",
              "1  Organic Search  20171016   6.436980e+17  0643697640977915618_1508175522   \n",
              "2  Organic Search  20171016   6.059380e+18  6059383810968229466_1508143220   \n",
              "3  Organic Search  20171016   2.376720e+18  2376720078563423631_1508193530   \n",
              "4  Organic Search  20171016   2.314540e+18  2314544520795440038_1508217442   \n",
              "\n",
              "   socialEngagementType     visitId  visitNumber  visitStartTime  \\\n",
              "0  Not Socially Engaged  1508151024            2      1508151024   \n",
              "1  Not Socially Engaged  1508175522            1      1508175522   \n",
              "2  Not Socially Engaged  1508143220            1      1508143220   \n",
              "3  Not Socially Engaged  1508193530            1      1508193530   \n",
              "4  Not Socially Engaged  1508217442            1      1508217442   \n",
              "\n",
              "  device.browser             device.browserSize         ...           \\\n",
              "0         Chrome  not available in demo dataset         ...            \n",
              "1         Chrome  not available in demo dataset         ...            \n",
              "2         Chrome  not available in demo dataset         ...            \n",
              "3         Safari  not available in demo dataset         ...            \n",
              "4         Safari  not available in demo dataset         ...            \n",
              "\n",
              "  trafficSource.adwordsClickInfo.gclId  \\\n",
              "0                                  NaN   \n",
              "1                                  NaN   \n",
              "2                                  NaN   \n",
              "3                                  NaN   \n",
              "4                                  NaN   \n",
              "\n",
              "  trafficSource.adwordsClickInfo.isVideoAd  \\\n",
              "0                                      NaN   \n",
              "1                                      NaN   \n",
              "2                                      NaN   \n",
              "3                                      NaN   \n",
              "4                                      NaN   \n",
              "\n",
              "  trafficSource.adwordsClickInfo.page  trafficSource.adwordsClickInfo.slot  \\\n",
              "0                                 NaN                                  NaN   \n",
              "1                                 NaN                                  NaN   \n",
              "2                                 NaN                                  NaN   \n",
              "3                                 NaN                                  NaN   \n",
              "4                                 NaN                                  NaN   \n",
              "\n",
              "  trafficSource.campaign trafficSource.isTrueDirect trafficSource.keyword  \\\n",
              "0              (not set)                       True        (not provided)   \n",
              "1              (not set)                        NaN        (not provided)   \n",
              "2              (not set)                        NaN        (not provided)   \n",
              "3              (not set)                        NaN        (not provided)   \n",
              "4              (not set)                        NaN        (not provided)   \n",
              "\n",
              "  trafficSource.medium trafficSource.referralPath trafficSource.source  \n",
              "0              organic                        NaN               google  \n",
              "1              organic                        NaN               google  \n",
              "2              organic                        NaN               google  \n",
              "3              organic                        NaN               google  \n",
              "4              organic                        NaN               google  \n",
              "\n",
              "[5 rows x 53 columns]"
            ]
          },
          "metadata": {
            "tags": []
          },
          "execution_count": 6
        }
      ]
    },
    {
      "metadata": {
        "id": "BhkjSWJh5Zm5",
        "colab_type": "code",
        "colab": {}
      },
      "cell_type": "code",
      "source": [
        "df1 = df_train\n",
        "df2 = df_test"
      ],
      "execution_count": 0,
      "outputs": []
    },
    {
      "metadata": {
        "id": "D1HYp81u5CeY",
        "colab_type": "code",
        "colab": {}
      },
      "cell_type": "code",
      "source": [
        "table = [df1, df2]"
      ],
      "execution_count": 0,
      "outputs": []
    },
    {
      "metadata": {
        "id": "QWDgE86ndnJt",
        "colab_type": "text"
      },
      "cell_type": "markdown",
      "source": [
        "# Initial Exploration"
      ]
    },
    {
      "metadata": {
        "id": "FOC8W48g5VNK",
        "colab_type": "code",
        "colab": {}
      },
      "cell_type": "code",
      "source": [
        "df1.info()"
      ],
      "execution_count": 0,
      "outputs": []
    },
    {
      "metadata": {
        "id": "RkCe8X_YMa6F",
        "colab_type": "code",
        "colab": {
          "base_uri": "https://localhost:8080/",
          "height": 361
        },
        "outputId": "ea471124-ac2d-4fa3-be8b-c5f4925272ec"
      },
      "cell_type": "code",
      "source": [
        "#PLotting log of revenue by visitorID. Seems like a small number of visitors contribute to the bulk of the Revenue\n",
        "\n",
        "gdf = df1.groupby(\"fullVisitorId\")[\"totals.transactionRevenue\"].sum().reset_index()\n",
        "\n",
        "\n",
        "plt.scatter(range(gdf.shape[0]), np.sort(np.log1p(gdf[\"totals.transactionRevenue\"].values)))\n",
        "plt.xlabel('index')\n",
        "plt.ylabel('TransactionRevenue')\n",
        "plt.show()"
      ],
      "execution_count": 10,
      "outputs": [
        {
          "output_type": "display_data",
          "data": {
            "image/png": "[encoded data removed]",
            "text/plain": [
              "<matplotlib.figure.Figure at 0x7fc770b3b780>"
            ]
          },
          "metadata": {
            "tags": []
          }
        }
      ]
    },
    {
      "metadata": {
        "id": "QTcModsrNM-U",
        "colab_type": "code",
        "colab": {
          "base_uri": "https://localhost:8080/",
          "height": 35
        },
        "outputId": "1322296e-9820-45fe-ae0a-a61aa016ddf0"
      },
      "cell_type": "code",
      "source": [
        "\n",
        "\n",
        "user_null_rev = df1['totals.transactionRevenue'].isnull().sum()#Null values in revenue\n",
        "user_rev = (df1['totals.transactionRevenue'] >0).sum()   # No. of customers paying\n",
        "percent_paying_customers = user_rev/df1.shape[0]\n",
        "percent_paying_customers                                 #percentage of paying customers"
      ],
      "execution_count": 11,
      "outputs": [
        {
          "output_type": "execute_result",
          "data": {
            "text/plain": [
              "0.0127427231470487"
            ]
          },
          "metadata": {
            "tags": []
          },
          "execution_count": 11
        }
      ]
    },
    {
      "metadata": {
        "id": "WAPoqU8LPShb",
        "colab_type": "text"
      },
      "cell_type": "markdown",
      "source": [
        "Just 1.3% of the customers are actually paying"
      ]
    },
    {
      "metadata": {
        "id": "eje6Fbh9PhCJ",
        "colab_type": "code",
        "colab": {
          "base_uri": "https://localhost:8080/",
          "height": 35
        },
        "outputId": "d3e333d3-20a7-42d2-fd4a-7a46d7a3cc57"
      },
      "cell_type": "code",
      "source": [
        "#Unique visitors are an important metric for any business. Let us look at the numnber of unique vistor ids and repeat visitors\n",
        "\n",
        "unique_visitors = df1['fullVisitorId'].nunique()/df1.shape[0]\n",
        "unique_visitors #62% of the visitors in the dataset are unique"
      ],
      "execution_count": 12,
      "outputs": [
        {
          "output_type": "execute_result",
          "data": {
            "text/plain": [
              "0.6171262641744121"
            ]
          },
          "metadata": {
            "tags": []
          },
          "execution_count": 12
        }
      ]
    },
    {
      "metadata": {
        "id": "Ly7ZrhLWSOEP",
        "colab_type": "code",
        "colab": {
          "base_uri": "https://localhost:8080/",
          "height": 355
        },
        "outputId": "794e8841-543a-466d-91a2-3576eeaec6ba"
      },
      "cell_type": "code",
      "source": [
        "for c in df1.columns:\n",
        "   if df1[c].nunique(dropna=False) == 1:\n",
        "      print(c)\n",
        "\n"
      ],
      "execution_count": 13,
      "outputs": [
        {
          "output_type": "stream",
          "text": [
            "socialEngagementType\n",
            "device.browserSize\n",
            "device.browserVersion\n",
            "device.flashVersion\n",
            "device.language\n",
            "device.mobileDeviceBranding\n",
            "device.mobileDeviceInfo\n",
            "device.mobileDeviceMarketingName\n",
            "device.mobileDeviceModel\n",
            "device.mobileInputSelector\n",
            "device.operatingSystemVersion\n",
            "device.screenColors\n",
            "device.screenResolution\n",
            "geoNetwork.cityId\n",
            "geoNetwork.latitude\n",
            "geoNetwork.longitude\n",
            "geoNetwork.networkLocation\n",
            "totals.visits\n",
            "trafficSource.adwordsClickInfo.criteriaParameters\n"
          ],
          "name": "stdout"
        }
      ]
    },
    {
      "metadata": {
        "id": "SKg_ZsARTSAw",
        "colab_type": "code",
        "colab": {
          "base_uri": "https://localhost:8080/",
          "height": 35
        },
        "outputId": "4208d7e4-9421-421f-fb9f-c67646fb6979"
      },
      "cell_type": "code",
      "source": [
        "df1.shape"
      ],
      "execution_count": 14,
      "outputs": [
        {
          "output_type": "execute_result",
          "data": {
            "text/plain": [
              "(903653, 55)"
            ]
          },
          "metadata": {
            "tags": []
          },
          "execution_count": 14
        }
      ]
    },
    {
      "metadata": {
        "id": "0i6E6aua5igY",
        "colab_type": "code",
        "colab": {}
      },
      "cell_type": "code",
      "source": [
        "# Convert date from object to datetime\n",
        "df1['date'] = pd.to_datetime(df1['date'], format = '%Y%m%d')\n",
        "\n",
        "# Get the month value from date\n",
        "df1['Month'] = df1['date'].dt.month\n",
        "\n",
        "# Get the week value from date\n",
        "df1['Week'] = df1['date'].dt.week\n",
        "\n",
        "# Get the weekday value from date\n",
        "df1['Weekday'] = df1['date'].dt.weekday\n",
        "\n",
        "# Get the quarter value from date\n",
        "df1['Quarter'] = df1['date'].dt.quarter\n",
        "\n",
        "# Get hour from visitStartTime column\n",
        "df1['Hour'] = pd.to_datetime(df1['visitStartTime'], unit='s').dt.hour"
      ],
      "execution_count": 0,
      "outputs": []
    },
    {
      "metadata": {
        "id": "Pvy6cz4ALxvX",
        "colab_type": "code",
        "colab": {
          "base_uri": "https://localhost:8080/",
          "height": 35
        },
        "outputId": "ad644357-49e7-496a-b1c7-3575dc5e2c3a"
      },
      "cell_type": "code",
      "source": [
        "df1.shape"
      ],
      "execution_count": 16,
      "outputs": [
        {
          "output_type": "execute_result",
          "data": {
            "text/plain": [
              "(903653, 60)"
            ]
          },
          "metadata": {
            "tags": []
          },
          "execution_count": 16
        }
      ]
    },
    {
      "metadata": {
        "id": "5ZguSVvWBv0z",
        "colab_type": "code",
        "colab": {
          "base_uri": "https://localhost:8080/",
          "height": 124
        },
        "outputId": "7aa20184-abe7-482d-8832-977b3d7d89b5"
      },
      "cell_type": "code",
      "source": [
        "df1['visitStartTime'].head()   "
      ],
      "execution_count": 17,
      "outputs": [
        {
          "output_type": "execute_result",
          "data": {
            "text/plain": [
              "0    1472830385\n",
              "1    1472880147\n",
              "2    1472865386\n",
              "3    1472881213\n",
              "4    1472822600\n",
              "Name: visitStartTime, dtype: int64"
            ]
          },
          "metadata": {
            "tags": []
          },
          "execution_count": 17
        }
      ]
    },
    {
      "metadata": {
        "id": "dXTw3OBGMAIT",
        "colab_type": "code",
        "colab": {}
      },
      "cell_type": "code",
      "source": [
        "df1[['fullVisitorId', 'visitId', 'sessionId']] #session Id is just a combination of fullvisitorId and visitId and it can dropped\n",
        "#fullvisitorId and visitId will be converted to strings"
      ],
      "execution_count": 0,
      "outputs": []
    },
    {
      "metadata": {
        "id": "XxNxXSnu6Myu",
        "colab_type": "code",
        "colab": {}
      },
      "cell_type": "code",
      "source": [
        "#Convert visitor id, visit id and  to Strings\n",
        "df1['fullVisitorId'] = df1['fullVisitorId'].astype('object')\n",
        "df1['visitId'] = df1['visitId'].astype('object')"
      ],
      "execution_count": 0,
      "outputs": []
    },
    {
      "metadata": {
        "id": "ouOm2mxk6x0u",
        "colab_type": "code",
        "colab": {}
      },
      "cell_type": "code",
      "source": [
        "#Drop columns which are null\n",
        "df1.pop('trafficSource.campaignCode')\n",
        "df1.pop('socialEngagementType')\n",
        "df1.pop('device.browserSize')\n",
        "df1.pop('device.browserVersion')\n",
        "df1.pop('device.flashVersion')\n",
        "df1.pop('device.language')\n",
        "df1.pop('device.mobileDeviceBranding')\n",
        "df1.pop('device.mobileDeviceInfo')\n",
        "df1.pop('device.mobileDeviceMarketingName')\n",
        "df1.pop('device.mobileDeviceModel')\n",
        "df1.pop('device.mobileInputSelector')\n",
        "df1.pop('device.operatingSystemVersion')\n",
        "df1.pop('device.screenColors')\n",
        "df1.pop('device.screenResolution')\n",
        "df1.pop('geoNetwork.cityId')\n",
        "df1.pop('geoNetwork.latitude')\n",
        "df1.pop('geoNetwork.longitude')\n",
        "df1.pop('trafficSource.adwordsClickInfo.criteriaParameters')\n",
        "df1.pop('geoNetwork.networkLocation')\n",
        "df1.pop('sessionId')"
      ],
      "execution_count": 0,
      "outputs": []
    },
    {
      "metadata": {
        "id": "y8KANvDXBH_y",
        "colab_type": "code",
        "colab": {
          "base_uri": "https://localhost:8080/",
          "height": 35
        },
        "outputId": "b50beda9-91eb-47b9-b407-62a8c6a9c5d9"
      },
      "cell_type": "code",
      "source": [
        "df1.shape"
      ],
      "execution_count": 24,
      "outputs": [
        {
          "output_type": "execute_result",
          "data": {
            "text/plain": [
              "(903653, 40)"
            ]
          },
          "metadata": {
            "tags": []
          },
          "execution_count": 24
        }
      ]
    },
    {
      "metadata": {
        "id": "By02jP5FQkPd",
        "colab_type": "code",
        "colab": {
          "base_uri": "https://localhost:8080/",
          "height": 817
        },
        "outputId": "505645aa-131e-400d-8383-78ccdc008468"
      },
      "cell_type": "code",
      "source": [
        "df1.info()"
      ],
      "execution_count": 32,
      "outputs": [
        {
          "output_type": "stream",
          "text": [
            "<class 'pandas.core.frame.DataFrame'>\n",
            "RangeIndex: 903653 entries, 0 to 903652\n",
            "Data columns (total 40 columns):\n",
            "channelGrouping                                 903653 non-null object\n",
            "date                                            903653 non-null datetime64[ns]\n",
            "fullVisitorId                                   903653 non-null object\n",
            "visitId                                         903653 non-null object\n",
            "visitNumber                                     903653 non-null int64\n",
            "visitStartTime                                  903653 non-null int64\n",
            "device.browser                                  903653 non-null object\n",
            "device.deviceCategory                           903653 non-null object\n",
            "device.isMobile                                 903653 non-null bool\n",
            "device.operatingSystem                          903653 non-null object\n",
            "geoNetwork.city                                 903653 non-null object\n",
            "geoNetwork.continent                            903653 non-null object\n",
            "geoNetwork.country                              903653 non-null object\n",
            "geoNetwork.metro                                903653 non-null object\n",
            "geoNetwork.networkDomain                        903653 non-null object\n",
            "geoNetwork.region                               903653 non-null object\n",
            "geoNetwork.subContinent                         903653 non-null object\n",
            "totals.bounces                                  450630 non-null float64\n",
            "totals.hits                                     903653 non-null int64\n",
            "totals.newVisits                                703060 non-null float64\n",
            "totals.pageviews                                903553 non-null float64\n",
            "totals.transactionRevenue                       11515 non-null float64\n",
            "totals.visits                                   903653 non-null int64\n",
            "trafficSource.adContent                         10946 non-null object\n",
            "trafficSource.adwordsClickInfo.adNetworkType    21460 non-null object\n",
            "trafficSource.adwordsClickInfo.gclId            21561 non-null object\n",
            "trafficSource.adwordsClickInfo.isVideoAd        21460 non-null object\n",
            "trafficSource.adwordsClickInfo.page             21460 non-null float64\n",
            "trafficSource.adwordsClickInfo.slot             21460 non-null object\n",
            "trafficSource.campaign                          903653 non-null object\n",
            "trafficSource.isTrueDirect                      274005 non-null object\n",
            "trafficSource.keyword                           400724 non-null object\n",
            "trafficSource.medium                            903653 non-null object\n",
            "trafficSource.referralPath                      330941 non-null object\n",
            "trafficSource.source                            903653 non-null object\n",
            "Month                                           903653 non-null int64\n",
            "Week                                            903653 non-null int64\n",
            "Weekday                                         903653 non-null int64\n",
            "Quarter                                         903653 non-null int64\n",
            "Hour                                            903653 non-null int64\n",
            "dtypes: bool(1), datetime64[ns](1), float64(5), int64(9), object(24)\n",
            "memory usage: 269.7+ MB\n"
          ],
          "name": "stdout"
        }
      ]
    },
    {
      "metadata": {
        "id": "1dDf_Rn4Q3yC",
        "colab_type": "text"
      },
      "cell_type": "markdown",
      "source": [
        "Will explore the remianing device columns to understand them"
      ]
    },
    {
      "metadata": {
        "id": "A-DDScRCRADo",
        "colab_type": "code",
        "colab": {
          "base_uri": "https://localhost:8080/",
          "height": 159
        },
        "outputId": "3ab0e6ad-1cbf-412d-8d7d-03cfa820c919"
      },
      "cell_type": "code",
      "source": [
        "#Exploring deviceCategory and is.mobile columns\n",
        "df1.groupby(['device.deviceCategory', 'device.isMobile']).size()"
      ],
      "execution_count": 34,
      "outputs": [
        {
          "output_type": "execute_result",
          "data": {
            "text/plain": [
              "device.deviceCategory  device.isMobile\n",
              "desktop                False              664369\n",
              "                       True                  110\n",
              "mobile                 False                 147\n",
              "                       True               208578\n",
              "tablet                 False                  14\n",
              "                       True                30435\n",
              "dtype: int64"
            ]
          },
          "metadata": {
            "tags": []
          },
          "execution_count": 34
        }
      ]
    },
    {
      "metadata": {
        "id": "tohYkD8ERiaE",
        "colab_type": "text"
      },
      "cell_type": "markdown",
      "source": [
        "Not sure why a few entries in Desktop are classified as True in is.mobile and some tablets and mobile are classified as False in Mobile. But overall this columns seems to be redundant and we can remove it"
      ]
    },
    {
      "metadata": {
        "id": "S41Jet01RhJD",
        "colab_type": "code",
        "colab": {}
      },
      "cell_type": "code",
      "source": [
        "df1.pop('device.isMobile')"
      ],
      "execution_count": 0,
      "outputs": []
    },
    {
      "metadata": {
        "id": "om5oOAf7R-Me",
        "colab_type": "code",
        "colab": {
          "base_uri": "https://localhost:8080/",
          "height": 408
        },
        "outputId": "6d891672-d23f-449e-bb5d-bee3fd7c0e9c"
      },
      "cell_type": "code",
      "source": [
        "df1.groupby(['device.operatingSystem']).size().sort_values()"
      ],
      "execution_count": 44,
      "outputs": [
        {
          "output_type": "execute_result",
          "data": {
            "text/plain": [
              "device.operatingSystem\n",
              "Nintendo 3DS          1\n",
              "SunOS                 1\n",
              "NTT DoCoMo            1\n",
              "OpenBSD               2\n",
              "Nokia                 2\n",
              "FreeBSD               9\n",
              "Nintendo WiiU        35\n",
              "Xbox                 66\n",
              "Firefox OS           89\n",
              "Nintendo Wii        100\n",
              "BlackBerry          218\n",
              "Samsung             280\n",
              "Windows Phone      1216\n",
              "(not set)          4695\n",
              "Chrome OS         26337\n",
              "Linux             35034\n",
              "iOS              107665\n",
              "Android          123892\n",
              "Macintosh        253938\n",
              "Windows          350072\n",
              "dtype: int64"
            ]
          },
          "metadata": {
            "tags": []
          },
          "execution_count": 44
        }
      ]
    },
    {
      "metadata": {
        "id": "Kl3CJ6ADVD4H",
        "colab_type": "text"
      },
      "cell_type": "markdown",
      "source": [
        "Might make sense to group everything below Windows phone into other."
      ]
    },
    {
      "metadata": {
        "id": "_jgenKR4VKyq",
        "colab_type": "code",
        "colab": {
          "base_uri": "https://localhost:8080/",
          "height": 1012
        },
        "outputId": "28dab4cb-c7e1-4880-9753-eee6d26bed26"
      },
      "cell_type": "code",
      "source": [
        "df1.groupby(['device.browser']).size().sort_values()"
      ],
      "execution_count": 45,
      "outputs": [
        {
          "output_type": "execute_result",
          "data": {
            "text/plain": [
              "device.browser\n",
              "M5                                                  1\n",
              "[Use default User-agent string] LIVRENPOCHE         1\n",
              "User Agent                                          1\n",
              "TCL P500M                                           1\n",
              "Reddit                                              1\n",
              "Konqueror                                           1\n",
              "IE with Chrome Frame                                1\n",
              "Hisense M20-M_LTE                                   1\n",
              "HTC802t_TD                                          1\n",
              "DoCoMo                                              1\n",
              "subjectAgent: NoticiasBoom                          1\n",
              "CSM Click                                           1\n",
              "ADM                                                 1\n",
              "Changa 99695759                                     1\n",
              "YE                                                  2\n",
              "NokiaE52-1                                          2\n",
              "MQQBrowser                                          2\n",
              "Android Runtime                                     2\n",
              "no-ua                                               3\n",
              "ThumbSniper                                         3\n",
              "LYF_LS_4002_11                                      3\n",
              "DASH_JR_3G                                          4\n",
              "osee2unifiedRelease                                 5\n",
              "Lunascape                                           5\n",
              "Nichrome                                            7\n",
              "0                                                   7\n",
              "(not set)                                           8\n",
              "Apple-iPhone7C2                                     9\n",
              "Mozilla                                            11\n",
              "Seznam                                             11\n",
              "SeaMonkey                                          15\n",
              "LYF_LS_4002_12                                     21\n",
              "Iron                                               33\n",
              "Nokia Browser                                      67\n",
              "Puffin                                             93\n",
              "Nintendo Browser                                  140\n",
              "BlackBerry                                        184\n",
              "Maxthon                                           246\n",
              "MRCHROME                                          263\n",
              "Mozilla Compatible Agent                          374\n",
              "Android Browser                                   553\n",
              "Amazon Silk                                       561\n",
              "Coc Coc                                           727\n",
              "YaBrowser                                        2096\n",
              "UC Browser                                       2427\n",
              "Opera                                            5643\n",
              "Opera Mini                                       6139\n",
              "Safari (in-app)                                  6850\n",
              "Android Webview                                  7865\n",
              "Edge                                            10205\n",
              "Internet Explorer                               19375\n",
              "Firefox                                         37069\n",
              "Safari                                         182245\n",
              "Chrome                                         620364\n",
              "dtype: int64"
            ]
          },
          "metadata": {
            "tags": []
          },
          "execution_count": 45
        }
      ]
    },
    {
      "metadata": {
        "id": "vOdjUZpTVYp6",
        "colab_type": "text"
      },
      "cell_type": "markdown",
      "source": [
        "Might make sense to group everything below Android into other other"
      ]
    },
    {
      "metadata": {
        "id": "fA3Hb2v1VvTr",
        "colab_type": "text"
      },
      "cell_type": "markdown",
      "source": [
        "Will explore geography columns next"
      ]
    },
    {
      "metadata": {
        "id": "ovHfI9-eV3Ll",
        "colab_type": "code",
        "colab": {
          "base_uri": "https://localhost:8080/",
          "height": 2716
        },
        "outputId": "204ece7a-8587-4b09-e912-98ab9cdf89ee"
      },
      "cell_type": "code",
      "source": [
        "df1[['geoNetwork.city', 'geoNetwork.continent', 'geoNetwork.country', 'geoNetwork.metro', 'geoNetwork.networkDomain', 'geoNetwork.region',\n",
        "'geoNetwork.subContinent']]"
      ],
      "execution_count": 62,
      "outputs": [
        {
          "output_type": "execute_result",
          "data": {
            "text/html": [
              "<div>\n",
              "<style scoped>\n",
              "    .dataframe tbody tr th:only-of-type {\n",
              "        vertical-align: middle;\n",
              "    }\n",
              "\n",
              "    .dataframe tbody tr th {\n",
              "        vertical-align: top;\n",
              "    }\n",
              "\n",
              "    .dataframe thead th {\n",
              "        text-align: right;\n",
              "    }\n",
              "</style>\n",
              "<table border=\"1\" class=\"dataframe\">\n",
              "  <thead>\n",
              "    <tr style=\"text-align: right;\">\n",
              "      <th></th>\n",
              "      <th>geoNetwork.city</th>\n",
              "      <th>geoNetwork.continent</th>\n",
              "      <th>geoNetwork.country</th>\n",
              "      <th>geoNetwork.metro</th>\n",
              "      <th>geoNetwork.networkDomain</th>\n",
              "      <th>geoNetwork.region</th>\n",
              "      <th>geoNetwork.subContinent</th>\n",
              "    </tr>\n",
              "  </thead>\n",
              "  <tbody>\n",
              "    <tr>\n",
              "      <th>0</th>\n",
              "      <td>Izmir</td>\n",
              "      <td>Asia</td>\n",
              "      <td>Turkey</td>\n",
              "      <td>(not set)</td>\n",
              "      <td>ttnet.com.tr</td>\n",
              "      <td>Izmir</td>\n",
              "      <td>Western Asia</td>\n",
              "    </tr>\n",
              "    <tr>\n",
              "      <th>1</th>\n",
              "      <td>not available in demo dataset</td>\n",
              "      <td>Oceania</td>\n",
              "      <td>Australia</td>\n",
              "      <td>not available in demo dataset</td>\n",
              "      <td>dodo.net.au</td>\n",
              "      <td>not available in demo dataset</td>\n",
              "      <td>Australasia</td>\n",
              "    </tr>\n",
              "    <tr>\n",
              "      <th>2</th>\n",
              "      <td>Madrid</td>\n",
              "      <td>Europe</td>\n",
              "      <td>Spain</td>\n",
              "      <td>(not set)</td>\n",
              "      <td>unknown.unknown</td>\n",
              "      <td>Community of Madrid</td>\n",
              "      <td>Southern Europe</td>\n",
              "    </tr>\n",
              "    <tr>\n",
              "      <th>3</th>\n",
              "      <td>not available in demo dataset</td>\n",
              "      <td>Asia</td>\n",
              "      <td>Indonesia</td>\n",
              "      <td>not available in demo dataset</td>\n",
              "      <td>unknown.unknown</td>\n",
              "      <td>not available in demo dataset</td>\n",
              "      <td>Southeast Asia</td>\n",
              "    </tr>\n",
              "    <tr>\n",
              "      <th>4</th>\n",
              "      <td>not available in demo dataset</td>\n",
              "      <td>Europe</td>\n",
              "      <td>United Kingdom</td>\n",
              "      <td>not available in demo dataset</td>\n",
              "      <td>unknown.unknown</td>\n",
              "      <td>not available in demo dataset</td>\n",
              "      <td>Northern Europe</td>\n",
              "    </tr>\n",
              "    <tr>\n",
              "      <th>5</th>\n",
              "      <td>not available in demo dataset</td>\n",
              "      <td>Europe</td>\n",
              "      <td>Italy</td>\n",
              "      <td>not available in demo dataset</td>\n",
              "      <td>fastwebnet.it</td>\n",
              "      <td>not available in demo dataset</td>\n",
              "      <td>Southern Europe</td>\n",
              "    </tr>\n",
              "    <tr>\n",
              "      <th>6</th>\n",
              "      <td>not available in demo dataset</td>\n",
              "      <td>Asia</td>\n",
              "      <td>Pakistan</td>\n",
              "      <td>not available in demo dataset</td>\n",
              "      <td>unknown.unknown</td>\n",
              "      <td>not available in demo dataset</td>\n",
              "      <td>Southern Asia</td>\n",
              "    </tr>\n",
              "    <tr>\n",
              "      <th>7</th>\n",
              "      <td>Brisbane</td>\n",
              "      <td>Oceania</td>\n",
              "      <td>Australia</td>\n",
              "      <td>(not set)</td>\n",
              "      <td>bigpond.net.au</td>\n",
              "      <td>Queensland</td>\n",
              "      <td>Australasia</td>\n",
              "    </tr>\n",
              "    <tr>\n",
              "      <th>8</th>\n",
              "      <td>not available in demo dataset</td>\n",
              "      <td>Europe</td>\n",
              "      <td>Austria</td>\n",
              "      <td>not available in demo dataset</td>\n",
              "      <td>spar.at</td>\n",
              "      <td>not available in demo dataset</td>\n",
              "      <td>Western Europe</td>\n",
              "    </tr>\n",
              "    <tr>\n",
              "      <th>9</th>\n",
              "      <td>not available in demo dataset</td>\n",
              "      <td>Europe</td>\n",
              "      <td>Netherlands</td>\n",
              "      <td>not available in demo dataset</td>\n",
              "      <td>chello.nl</td>\n",
              "      <td>not available in demo dataset</td>\n",
              "      <td>Western Europe</td>\n",
              "    </tr>\n",
              "    <tr>\n",
              "      <th>10</th>\n",
              "      <td>not available in demo dataset</td>\n",
              "      <td>Asia</td>\n",
              "      <td>India</td>\n",
              "      <td>not available in demo dataset</td>\n",
              "      <td>airtelbroadband.in</td>\n",
              "      <td>not available in demo dataset</td>\n",
              "      <td>Southern Asia</td>\n",
              "    </tr>\n",
              "    <tr>\n",
              "      <th>11</th>\n",
              "      <td>not available in demo dataset</td>\n",
              "      <td>Europe</td>\n",
              "      <td>France</td>\n",
              "      <td>not available in demo dataset</td>\n",
              "      <td>wanadoo.fr</td>\n",
              "      <td>not available in demo dataset</td>\n",
              "      <td>Western Europe</td>\n",
              "    </tr>\n",
              "    <tr>\n",
              "      <th>12</th>\n",
              "      <td>Izmir</td>\n",
              "      <td>Asia</td>\n",
              "      <td>Turkey</td>\n",
              "      <td>(not set)</td>\n",
              "      <td>unknown.unknown</td>\n",
              "      <td>Izmir</td>\n",
              "      <td>Western Asia</td>\n",
              "    </tr>\n",
              "    <tr>\n",
              "      <th>13</th>\n",
              "      <td>Karachi</td>\n",
              "      <td>Asia</td>\n",
              "      <td>Pakistan</td>\n",
              "      <td>(not set)</td>\n",
              "      <td>unknown.unknown</td>\n",
              "      <td>Sindh</td>\n",
              "      <td>Southern Asia</td>\n",
              "    </tr>\n",
              "    <tr>\n",
              "      <th>14</th>\n",
              "      <td>not available in demo dataset</td>\n",
              "      <td>Americas</td>\n",
              "      <td>Brazil</td>\n",
              "      <td>not available in demo dataset</td>\n",
              "      <td>cabotelecom.com.br</td>\n",
              "      <td>not available in demo dataset</td>\n",
              "      <td>South America</td>\n",
              "    </tr>\n",
              "    <tr>\n",
              "      <th>15</th>\n",
              "      <td>not available in demo dataset</td>\n",
              "      <td>Asia</td>\n",
              "      <td>China</td>\n",
              "      <td>not available in demo dataset</td>\n",
              "      <td>unknown.unknown</td>\n",
              "      <td>not available in demo dataset</td>\n",
              "      <td>Eastern Asia</td>\n",
              "    </tr>\n",
              "    <tr>\n",
              "      <th>16</th>\n",
              "      <td>not available in demo dataset</td>\n",
              "      <td>Europe</td>\n",
              "      <td>Netherlands</td>\n",
              "      <td>not available in demo dataset</td>\n",
              "      <td>igmholding.nl</td>\n",
              "      <td>not available in demo dataset</td>\n",
              "      <td>Western Europe</td>\n",
              "    </tr>\n",
              "    <tr>\n",
              "      <th>17</th>\n",
              "      <td>Paris</td>\n",
              "      <td>Europe</td>\n",
              "      <td>France</td>\n",
              "      <td>(not set)</td>\n",
              "      <td>nerim.net</td>\n",
              "      <td>Ile-de-France</td>\n",
              "      <td>Western Europe</td>\n",
              "    </tr>\n",
              "    <tr>\n",
              "      <th>18</th>\n",
              "      <td>Singapore</td>\n",
              "      <td>Asia</td>\n",
              "      <td>Singapore</td>\n",
              "      <td>(not set)</td>\n",
              "      <td>unknown.unknown</td>\n",
              "      <td>(not set)</td>\n",
              "      <td>Southeast Asia</td>\n",
              "    </tr>\n",
              "    <tr>\n",
              "      <th>19</th>\n",
              "      <td>Buenos Aires</td>\n",
              "      <td>Americas</td>\n",
              "      <td>Argentina</td>\n",
              "      <td>(not set)</td>\n",
              "      <td>phonevision.com.ar</td>\n",
              "      <td>Buenos Aires</td>\n",
              "      <td>South America</td>\n",
              "    </tr>\n",
              "    <tr>\n",
              "      <th>20</th>\n",
              "      <td>not available in demo dataset</td>\n",
              "      <td>Europe</td>\n",
              "      <td>Poland</td>\n",
              "      <td>not available in demo dataset</td>\n",
              "      <td>tpnet.pl</td>\n",
              "      <td>not available in demo dataset</td>\n",
              "      <td>Eastern Europe</td>\n",
              "    </tr>\n",
              "    <tr>\n",
              "      <th>21</th>\n",
              "      <td>(not set)</td>\n",
              "      <td>Europe</td>\n",
              "      <td>Germany</td>\n",
              "      <td>(not set)</td>\n",
              "      <td>live-servers.net</td>\n",
              "      <td>(not set)</td>\n",
              "      <td>Western Europe</td>\n",
              "    </tr>\n",
              "    <tr>\n",
              "      <th>22</th>\n",
              "      <td>not available in demo dataset</td>\n",
              "      <td>Americas</td>\n",
              "      <td>Canada</td>\n",
              "      <td>not available in demo dataset</td>\n",
              "      <td>unknown.unknown</td>\n",
              "      <td>not available in demo dataset</td>\n",
              "      <td>Northern America</td>\n",
              "    </tr>\n",
              "    <tr>\n",
              "      <th>23</th>\n",
              "      <td>Bangkok</td>\n",
              "      <td>Asia</td>\n",
              "      <td>Thailand</td>\n",
              "      <td>(not set)</td>\n",
              "      <td>asianet.co.th</td>\n",
              "      <td>Bangkok</td>\n",
              "      <td>Southeast Asia</td>\n",
              "    </tr>\n",
              "    <tr>\n",
              "      <th>24</th>\n",
              "      <td>Jakarta</td>\n",
              "      <td>Asia</td>\n",
              "      <td>Indonesia</td>\n",
              "      <td>(not set)</td>\n",
              "      <td>cbn.net.id</td>\n",
              "      <td>Jakarta</td>\n",
              "      <td>Southeast Asia</td>\n",
              "    </tr>\n",
              "    <tr>\n",
              "      <th>25</th>\n",
              "      <td>not available in demo dataset</td>\n",
              "      <td>Europe</td>\n",
              "      <td>Germany</td>\n",
              "      <td>not available in demo dataset</td>\n",
              "      <td>hafele.com</td>\n",
              "      <td>not available in demo dataset</td>\n",
              "      <td>Western Europe</td>\n",
              "    </tr>\n",
              "    <tr>\n",
              "      <th>26</th>\n",
              "      <td>not available in demo dataset</td>\n",
              "      <td>Europe</td>\n",
              "      <td>France</td>\n",
              "      <td>not available in demo dataset</td>\n",
              "      <td>coltfrance.com</td>\n",
              "      <td>not available in demo dataset</td>\n",
              "      <td>Western Europe</td>\n",
              "    </tr>\n",
              "    <tr>\n",
              "      <th>27</th>\n",
              "      <td>not available in demo dataset</td>\n",
              "      <td>Europe</td>\n",
              "      <td>Hungary</td>\n",
              "      <td>not available in demo dataset</td>\n",
              "      <td>broadband.hu</td>\n",
              "      <td>not available in demo dataset</td>\n",
              "      <td>Eastern Europe</td>\n",
              "    </tr>\n",
              "    <tr>\n",
              "      <th>28</th>\n",
              "      <td>Bengaluru</td>\n",
              "      <td>Asia</td>\n",
              "      <td>India</td>\n",
              "      <td>(not set)</td>\n",
              "      <td>unknown.unknown</td>\n",
              "      <td>Karnataka</td>\n",
              "      <td>Southern Asia</td>\n",
              "    </tr>\n",
              "    <tr>\n",
              "      <th>29</th>\n",
              "      <td>not available in demo dataset</td>\n",
              "      <td>Asia</td>\n",
              "      <td>Malaysia</td>\n",
              "      <td>not available in demo dataset</td>\n",
              "      <td>unknown.unknown</td>\n",
              "      <td>not available in demo dataset</td>\n",
              "      <td>Southeast Asia</td>\n",
              "    </tr>\n",
              "    <tr>\n",
              "      <th>...</th>\n",
              "      <td>...</td>\n",
              "      <td>...</td>\n",
              "      <td>...</td>\n",
              "      <td>...</td>\n",
              "      <td>...</td>\n",
              "      <td>...</td>\n",
              "      <td>...</td>\n",
              "    </tr>\n",
              "    <tr>\n",
              "      <th>903623</th>\n",
              "      <td>not available in demo dataset</td>\n",
              "      <td>Asia</td>\n",
              "      <td>Turkey</td>\n",
              "      <td>not available in demo dataset</td>\n",
              "      <td>unknown.unknown</td>\n",
              "      <td>not available in demo dataset</td>\n",
              "      <td>Western Asia</td>\n",
              "    </tr>\n",
              "    <tr>\n",
              "      <th>903624</th>\n",
              "      <td>not available in demo dataset</td>\n",
              "      <td>Americas</td>\n",
              "      <td>Puerto Rico</td>\n",
              "      <td>not available in demo dataset</td>\n",
              "      <td>unknown.unknown</td>\n",
              "      <td>not available in demo dataset</td>\n",
              "      <td>Caribbean</td>\n",
              "    </tr>\n",
              "    <tr>\n",
              "      <th>903625</th>\n",
              "      <td>not available in demo dataset</td>\n",
              "      <td>Americas</td>\n",
              "      <td>United States</td>\n",
              "      <td>not available in demo dataset</td>\n",
              "      <td>verizon.net</td>\n",
              "      <td>not available in demo dataset</td>\n",
              "      <td>Northern America</td>\n",
              "    </tr>\n",
              "    <tr>\n",
              "      <th>903626</th>\n",
              "      <td>not available in demo dataset</td>\n",
              "      <td>Americas</td>\n",
              "      <td>United States</td>\n",
              "      <td>not available in demo dataset</td>\n",
              "      <td>rr.com</td>\n",
              "      <td>not available in demo dataset</td>\n",
              "      <td>Northern America</td>\n",
              "    </tr>\n",
              "    <tr>\n",
              "      <th>903627</th>\n",
              "      <td>not available in demo dataset</td>\n",
              "      <td>Americas</td>\n",
              "      <td>Canada</td>\n",
              "      <td>not available in demo dataset</td>\n",
              "      <td>rupert.net</td>\n",
              "      <td>not available in demo dataset</td>\n",
              "      <td>Northern America</td>\n",
              "    </tr>\n",
              "    <tr>\n",
              "      <th>903628</th>\n",
              "      <td>not available in demo dataset</td>\n",
              "      <td>Americas</td>\n",
              "      <td>United States</td>\n",
              "      <td>not available in demo dataset</td>\n",
              "      <td>(not set)</td>\n",
              "      <td>not available in demo dataset</td>\n",
              "      <td>Northern America</td>\n",
              "    </tr>\n",
              "    <tr>\n",
              "      <th>903629</th>\n",
              "      <td>not available in demo dataset</td>\n",
              "      <td>Asia</td>\n",
              "      <td>Malaysia</td>\n",
              "      <td>not available in demo dataset</td>\n",
              "      <td>unknown.unknown</td>\n",
              "      <td>not available in demo dataset</td>\n",
              "      <td>Southeast Asia</td>\n",
              "    </tr>\n",
              "    <tr>\n",
              "      <th>903630</th>\n",
              "      <td>not available in demo dataset</td>\n",
              "      <td>Americas</td>\n",
              "      <td>Chile</td>\n",
              "      <td>not available in demo dataset</td>\n",
              "      <td>vtr.net</td>\n",
              "      <td>not available in demo dataset</td>\n",
              "      <td>South America</td>\n",
              "    </tr>\n",
              "    <tr>\n",
              "      <th>903631</th>\n",
              "      <td>not available in demo dataset</td>\n",
              "      <td>Europe</td>\n",
              "      <td>Germany</td>\n",
              "      <td>not available in demo dataset</td>\n",
              "      <td>(not set)</td>\n",
              "      <td>not available in demo dataset</td>\n",
              "      <td>Western Europe</td>\n",
              "    </tr>\n",
              "    <tr>\n",
              "      <th>903632</th>\n",
              "      <td>not available in demo dataset</td>\n",
              "      <td>Americas</td>\n",
              "      <td>Brazil</td>\n",
              "      <td>not available in demo dataset</td>\n",
              "      <td>f1net.com.br</td>\n",
              "      <td>not available in demo dataset</td>\n",
              "      <td>South America</td>\n",
              "    </tr>\n",
              "    <tr>\n",
              "      <th>903633</th>\n",
              "      <td>not available in demo dataset</td>\n",
              "      <td>Europe</td>\n",
              "      <td>United Kingdom</td>\n",
              "      <td>not available in demo dataset</td>\n",
              "      <td>btcentralplus.com</td>\n",
              "      <td>not available in demo dataset</td>\n",
              "      <td>Northern Europe</td>\n",
              "    </tr>\n",
              "    <tr>\n",
              "      <th>903634</th>\n",
              "      <td>Stockholm</td>\n",
              "      <td>Europe</td>\n",
              "      <td>Sweden</td>\n",
              "      <td>(not set)</td>\n",
              "      <td>dgcsystems.net</td>\n",
              "      <td>Stockholm County</td>\n",
              "      <td>Northern Europe</td>\n",
              "    </tr>\n",
              "    <tr>\n",
              "      <th>903635</th>\n",
              "      <td>Los Angeles</td>\n",
              "      <td>Americas</td>\n",
              "      <td>United States</td>\n",
              "      <td>Los Angeles CA</td>\n",
              "      <td>(not set)</td>\n",
              "      <td>California</td>\n",
              "      <td>Northern America</td>\n",
              "    </tr>\n",
              "    <tr>\n",
              "      <th>903636</th>\n",
              "      <td>San Francisco</td>\n",
              "      <td>Americas</td>\n",
              "      <td>United States</td>\n",
              "      <td>San Francisco-Oakland-San Jose CA</td>\n",
              "      <td>(not set)</td>\n",
              "      <td>California</td>\n",
              "      <td>Northern America</td>\n",
              "    </tr>\n",
              "    <tr>\n",
              "      <th>903637</th>\n",
              "      <td>not available in demo dataset</td>\n",
              "      <td>Europe</td>\n",
              "      <td>Serbia</td>\n",
              "      <td>not available in demo dataset</td>\n",
              "      <td>sbb.rs</td>\n",
              "      <td>not available in demo dataset</td>\n",
              "      <td>Southern Europe</td>\n",
              "    </tr>\n",
              "    <tr>\n",
              "      <th>903638</th>\n",
              "      <td>not available in demo dataset</td>\n",
              "      <td>Americas</td>\n",
              "      <td>United States</td>\n",
              "      <td>not available in demo dataset</td>\n",
              "      <td>embarqhsd.net</td>\n",
              "      <td>not available in demo dataset</td>\n",
              "      <td>Northern America</td>\n",
              "    </tr>\n",
              "    <tr>\n",
              "      <th>903639</th>\n",
              "      <td>not available in demo dataset</td>\n",
              "      <td>Europe</td>\n",
              "      <td>Italy</td>\n",
              "      <td>not available in demo dataset</td>\n",
              "      <td>electrosystem.com</td>\n",
              "      <td>not available in demo dataset</td>\n",
              "      <td>Southern Europe</td>\n",
              "    </tr>\n",
              "    <tr>\n",
              "      <th>903640</th>\n",
              "      <td>not available in demo dataset</td>\n",
              "      <td>Europe</td>\n",
              "      <td>Netherlands</td>\n",
              "      <td>not available in demo dataset</td>\n",
              "      <td>(not set)</td>\n",
              "      <td>not available in demo dataset</td>\n",
              "      <td>Western Europe</td>\n",
              "    </tr>\n",
              "    <tr>\n",
              "      <th>903641</th>\n",
              "      <td>Hong Kong</td>\n",
              "      <td>Asia</td>\n",
              "      <td>Hong Kong</td>\n",
              "      <td>(not set)</td>\n",
              "      <td>ctinets.com</td>\n",
              "      <td>(not set)</td>\n",
              "      <td>Eastern Asia</td>\n",
              "    </tr>\n",
              "    <tr>\n",
              "      <th>903642</th>\n",
              "      <td>not available in demo dataset</td>\n",
              "      <td>Europe</td>\n",
              "      <td>Germany</td>\n",
              "      <td>not available in demo dataset</td>\n",
              "      <td>(not set)</td>\n",
              "      <td>not available in demo dataset</td>\n",
              "      <td>Western Europe</td>\n",
              "    </tr>\n",
              "    <tr>\n",
              "      <th>903643</th>\n",
              "      <td>Fremont</td>\n",
              "      <td>Americas</td>\n",
              "      <td>United States</td>\n",
              "      <td>San Francisco-Oakland-San Jose CA</td>\n",
              "      <td>(not set)</td>\n",
              "      <td>California</td>\n",
              "      <td>Northern America</td>\n",
              "    </tr>\n",
              "    <tr>\n",
              "      <th>903644</th>\n",
              "      <td>not available in demo dataset</td>\n",
              "      <td>Americas</td>\n",
              "      <td>United States</td>\n",
              "      <td>not available in demo dataset</td>\n",
              "      <td>rr.com</td>\n",
              "      <td>not available in demo dataset</td>\n",
              "      <td>Northern America</td>\n",
              "    </tr>\n",
              "    <tr>\n",
              "      <th>903645</th>\n",
              "      <td>New York</td>\n",
              "      <td>Americas</td>\n",
              "      <td>United States</td>\n",
              "      <td>New York NY</td>\n",
              "      <td>att.net</td>\n",
              "      <td>New York</td>\n",
              "      <td>Northern America</td>\n",
              "    </tr>\n",
              "    <tr>\n",
              "      <th>903646</th>\n",
              "      <td>Melbourne</td>\n",
              "      <td>Oceania</td>\n",
              "      <td>Australia</td>\n",
              "      <td>(not set)</td>\n",
              "      <td>optusnet.com.au</td>\n",
              "      <td>Victoria</td>\n",
              "      <td>Australasia</td>\n",
              "    </tr>\n",
              "    <tr>\n",
              "      <th>903647</th>\n",
              "      <td>not available in demo dataset</td>\n",
              "      <td>Africa</td>\n",
              "      <td>Egypt</td>\n",
              "      <td>not available in demo dataset</td>\n",
              "      <td>tedata.net</td>\n",
              "      <td>not available in demo dataset</td>\n",
              "      <td>Northern Africa</td>\n",
              "    </tr>\n",
              "    <tr>\n",
              "      <th>903648</th>\n",
              "      <td>not available in demo dataset</td>\n",
              "      <td>Americas</td>\n",
              "      <td>Puerto Rico</td>\n",
              "      <td>not available in demo dataset</td>\n",
              "      <td>prtc.net</td>\n",
              "      <td>not available in demo dataset</td>\n",
              "      <td>Caribbean</td>\n",
              "    </tr>\n",
              "    <tr>\n",
              "      <th>903649</th>\n",
              "      <td>not available in demo dataset</td>\n",
              "      <td>Asia</td>\n",
              "      <td>Sri Lanka</td>\n",
              "      <td>not available in demo dataset</td>\n",
              "      <td>unknown.unknown</td>\n",
              "      <td>not available in demo dataset</td>\n",
              "      <td>Southern Asia</td>\n",
              "    </tr>\n",
              "    <tr>\n",
              "      <th>903650</th>\n",
              "      <td>Seoul</td>\n",
              "      <td>Asia</td>\n",
              "      <td>South Korea</td>\n",
              "      <td>(not set)</td>\n",
              "      <td>unknown.unknown</td>\n",
              "      <td>Seoul</td>\n",
              "      <td>Eastern Asia</td>\n",
              "    </tr>\n",
              "    <tr>\n",
              "      <th>903651</th>\n",
              "      <td>not available in demo dataset</td>\n",
              "      <td>Asia</td>\n",
              "      <td>Indonesia</td>\n",
              "      <td>not available in demo dataset</td>\n",
              "      <td>unknown.unknown</td>\n",
              "      <td>not available in demo dataset</td>\n",
              "      <td>Southeast Asia</td>\n",
              "    </tr>\n",
              "    <tr>\n",
              "      <th>903652</th>\n",
              "      <td>not available in demo dataset</td>\n",
              "      <td>Americas</td>\n",
              "      <td>Mexico</td>\n",
              "      <td>not available in demo dataset</td>\n",
              "      <td>cybercable.net.mx</td>\n",
              "      <td>not available in demo dataset</td>\n",
              "      <td>Central America</td>\n",
              "    </tr>\n",
              "  </tbody>\n",
              "</table>\n",
              "<p>903653 rows × 7 columns</p>\n",
              "</div>"
            ],
            "text/plain": [
              "                      geoNetwork.city geoNetwork.continent geoNetwork.country  \\\n",
              "0                               Izmir                 Asia             Turkey   \n",
              "1       not available in demo dataset              Oceania          Australia   \n",
              "2                              Madrid               Europe              Spain   \n",
              "3       not available in demo dataset                 Asia          Indonesia   \n",
              "4       not available in demo dataset               Europe     United Kingdom   \n",
              "5       not available in demo dataset               Europe              Italy   \n",
              "6       not available in demo dataset                 Asia           Pakistan   \n",
              "7                            Brisbane              Oceania          Australia   \n",
              "8       not available in demo dataset               Europe            Austria   \n",
              "9       not available in demo dataset               Europe        Netherlands   \n",
              "10      not available in demo dataset                 Asia              India   \n",
              "11      not available in demo dataset               Europe             France   \n",
              "12                              Izmir                 Asia             Turkey   \n",
              "13                            Karachi                 Asia           Pakistan   \n",
              "14      not available in demo dataset             Americas             Brazil   \n",
              "15      not available in demo dataset                 Asia              China   \n",
              "16      not available in demo dataset               Europe        Netherlands   \n",
              "17                              Paris               Europe             France   \n",
              "18                          Singapore                 Asia          Singapore   \n",
              "19                       Buenos Aires             Americas          Argentina   \n",
              "20      not available in demo dataset               Europe             Poland   \n",
              "21                          (not set)               Europe            Germany   \n",
              "22      not available in demo dataset             Americas             Canada   \n",
              "23                            Bangkok                 Asia           Thailand   \n",
              "24                            Jakarta                 Asia          Indonesia   \n",
              "25      not available in demo dataset               Europe            Germany   \n",
              "26      not available in demo dataset               Europe             France   \n",
              "27      not available in demo dataset               Europe            Hungary   \n",
              "28                          Bengaluru                 Asia              India   \n",
              "29      not available in demo dataset                 Asia           Malaysia   \n",
              "...                               ...                  ...                ...   \n",
              "903623  not available in demo dataset                 Asia             Turkey   \n",
              "903624  not available in demo dataset             Americas        Puerto Rico   \n",
              "903625  not available in demo dataset             Americas      United States   \n",
              "903626  not available in demo dataset             Americas      United States   \n",
              "903627  not available in demo dataset             Americas             Canada   \n",
              "903628  not available in demo dataset             Americas      United States   \n",
              "903629  not available in demo dataset                 Asia           Malaysia   \n",
              "903630  not available in demo dataset             Americas              Chile   \n",
              "903631  not available in demo dataset               Europe            Germany   \n",
              "903632  not available in demo dataset             Americas             Brazil   \n",
              "903633  not available in demo dataset               Europe     United Kingdom   \n",
              "903634                      Stockholm               Europe             Sweden   \n",
              "903635                    Los Angeles             Americas      United States   \n",
              "903636                  San Francisco             Americas      United States   \n",
              "903637  not available in demo dataset               Europe             Serbia   \n",
              "903638  not available in demo dataset             Americas      United States   \n",
              "903639  not available in demo dataset               Europe              Italy   \n",
              "903640  not available in demo dataset               Europe        Netherlands   \n",
              "903641                      Hong Kong                 Asia          Hong Kong   \n",
              "903642  not available in demo dataset               Europe            Germany   \n",
              "903643                        Fremont             Americas      United States   \n",
              "903644  not available in demo dataset             Americas      United States   \n",
              "903645                       New York             Americas      United States   \n",
              "903646                      Melbourne              Oceania          Australia   \n",
              "903647  not available in demo dataset               Africa              Egypt   \n",
              "903648  not available in demo dataset             Americas        Puerto Rico   \n",
              "903649  not available in demo dataset                 Asia          Sri Lanka   \n",
              "903650                          Seoul                 Asia        South Korea   \n",
              "903651  not available in demo dataset                 Asia          Indonesia   \n",
              "903652  not available in demo dataset             Americas             Mexico   \n",
              "\n",
              "                         geoNetwork.metro geoNetwork.networkDomain  \\\n",
              "0                               (not set)             ttnet.com.tr   \n",
              "1           not available in demo dataset              dodo.net.au   \n",
              "2                               (not set)          unknown.unknown   \n",
              "3           not available in demo dataset          unknown.unknown   \n",
              "4           not available in demo dataset          unknown.unknown   \n",
              "5           not available in demo dataset            fastwebnet.it   \n",
              "6           not available in demo dataset          unknown.unknown   \n",
              "7                               (not set)           bigpond.net.au   \n",
              "8           not available in demo dataset                  spar.at   \n",
              "9           not available in demo dataset                chello.nl   \n",
              "10          not available in demo dataset       airtelbroadband.in   \n",
              "11          not available in demo dataset               wanadoo.fr   \n",
              "12                              (not set)          unknown.unknown   \n",
              "13                              (not set)          unknown.unknown   \n",
              "14          not available in demo dataset       cabotelecom.com.br   \n",
              "15          not available in demo dataset          unknown.unknown   \n",
              "16          not available in demo dataset            igmholding.nl   \n",
              "17                              (not set)                nerim.net   \n",
              "18                              (not set)          unknown.unknown   \n",
              "19                              (not set)       phonevision.com.ar   \n",
              "20          not available in demo dataset                 tpnet.pl   \n",
              "21                              (not set)         live-servers.net   \n",
              "22          not available in demo dataset          unknown.unknown   \n",
              "23                              (not set)            asianet.co.th   \n",
              "24                              (not set)               cbn.net.id   \n",
              "25          not available in demo dataset               hafele.com   \n",
              "26          not available in demo dataset           coltfrance.com   \n",
              "27          not available in demo dataset             broadband.hu   \n",
              "28                              (not set)          unknown.unknown   \n",
              "29          not available in demo dataset          unknown.unknown   \n",
              "...                                   ...                      ...   \n",
              "903623      not available in demo dataset          unknown.unknown   \n",
              "903624      not available in demo dataset          unknown.unknown   \n",
              "903625      not available in demo dataset              verizon.net   \n",
              "903626      not available in demo dataset                   rr.com   \n",
              "903627      not available in demo dataset               rupert.net   \n",
              "903628      not available in demo dataset                (not set)   \n",
              "903629      not available in demo dataset          unknown.unknown   \n",
              "903630      not available in demo dataset                  vtr.net   \n",
              "903631      not available in demo dataset                (not set)   \n",
              "903632      not available in demo dataset             f1net.com.br   \n",
              "903633      not available in demo dataset        btcentralplus.com   \n",
              "903634                          (not set)           dgcsystems.net   \n",
              "903635                     Los Angeles CA                (not set)   \n",
              "903636  San Francisco-Oakland-San Jose CA                (not set)   \n",
              "903637      not available in demo dataset                   sbb.rs   \n",
              "903638      not available in demo dataset            embarqhsd.net   \n",
              "903639      not available in demo dataset        electrosystem.com   \n",
              "903640      not available in demo dataset                (not set)   \n",
              "903641                          (not set)              ctinets.com   \n",
              "903642      not available in demo dataset                (not set)   \n",
              "903643  San Francisco-Oakland-San Jose CA                (not set)   \n",
              "903644      not available in demo dataset                   rr.com   \n",
              "903645                        New York NY                  att.net   \n",
              "903646                          (not set)          optusnet.com.au   \n",
              "903647      not available in demo dataset               tedata.net   \n",
              "903648      not available in demo dataset                 prtc.net   \n",
              "903649      not available in demo dataset          unknown.unknown   \n",
              "903650                          (not set)          unknown.unknown   \n",
              "903651      not available in demo dataset          unknown.unknown   \n",
              "903652      not available in demo dataset        cybercable.net.mx   \n",
              "\n",
              "                    geoNetwork.region geoNetwork.subContinent  \n",
              "0                               Izmir            Western Asia  \n",
              "1       not available in demo dataset             Australasia  \n",
              "2                 Community of Madrid         Southern Europe  \n",
              "3       not available in demo dataset          Southeast Asia  \n",
              "4       not available in demo dataset         Northern Europe  \n",
              "5       not available in demo dataset         Southern Europe  \n",
              "6       not available in demo dataset           Southern Asia  \n",
              "7                          Queensland             Australasia  \n",
              "8       not available in demo dataset          Western Europe  \n",
              "9       not available in demo dataset          Western Europe  \n",
              "10      not available in demo dataset           Southern Asia  \n",
              "11      not available in demo dataset          Western Europe  \n",
              "12                              Izmir            Western Asia  \n",
              "13                              Sindh           Southern Asia  \n",
              "14      not available in demo dataset           South America  \n",
              "15      not available in demo dataset            Eastern Asia  \n",
              "16      not available in demo dataset          Western Europe  \n",
              "17                      Ile-de-France          Western Europe  \n",
              "18                          (not set)          Southeast Asia  \n",
              "19                       Buenos Aires           South America  \n",
              "20      not available in demo dataset          Eastern Europe  \n",
              "21                          (not set)          Western Europe  \n",
              "22      not available in demo dataset        Northern America  \n",
              "23                            Bangkok          Southeast Asia  \n",
              "24                            Jakarta          Southeast Asia  \n",
              "25      not available in demo dataset          Western Europe  \n",
              "26      not available in demo dataset          Western Europe  \n",
              "27      not available in demo dataset          Eastern Europe  \n",
              "28                          Karnataka           Southern Asia  \n",
              "29      not available in demo dataset          Southeast Asia  \n",
              "...                               ...                     ...  \n",
              "903623  not available in demo dataset            Western Asia  \n",
              "903624  not available in demo dataset               Caribbean  \n",
              "903625  not available in demo dataset        Northern America  \n",
              "903626  not available in demo dataset        Northern America  \n",
              "903627  not available in demo dataset        Northern America  \n",
              "903628  not available in demo dataset        Northern America  \n",
              "903629  not available in demo dataset          Southeast Asia  \n",
              "903630  not available in demo dataset           South America  \n",
              "903631  not available in demo dataset          Western Europe  \n",
              "903632  not available in demo dataset           South America  \n",
              "903633  not available in demo dataset         Northern Europe  \n",
              "903634               Stockholm County         Northern Europe  \n",
              "903635                     California        Northern America  \n",
              "903636                     California        Northern America  \n",
              "903637  not available in demo dataset         Southern Europe  \n",
              "903638  not available in demo dataset        Northern America  \n",
              "903639  not available in demo dataset         Southern Europe  \n",
              "903640  not available in demo dataset          Western Europe  \n",
              "903641                      (not set)            Eastern Asia  \n",
              "903642  not available in demo dataset          Western Europe  \n",
              "903643                     California        Northern America  \n",
              "903644  not available in demo dataset        Northern America  \n",
              "903645                       New York        Northern America  \n",
              "903646                       Victoria             Australasia  \n",
              "903647  not available in demo dataset         Northern Africa  \n",
              "903648  not available in demo dataset               Caribbean  \n",
              "903649  not available in demo dataset           Southern Asia  \n",
              "903650                          Seoul            Eastern Asia  \n",
              "903651  not available in demo dataset          Southeast Asia  \n",
              "903652  not available in demo dataset         Central America  \n",
              "\n",
              "[903653 rows x 7 columns]"
            ]
          },
          "metadata": {
            "tags": []
          },
          "execution_count": 62
        }
      ]
    },
    {
      "metadata": {
        "id": "JH7HtTFRdOdX",
        "colab_type": "code",
        "colab": {}
      },
      "cell_type": "code",
      "source": [
        "df1.groupby(['geoNetwork.networkDomain']).size().sort_values()"
      ],
      "execution_count": 0,
      "outputs": []
    },
    {
      "metadata": {
        "id": "7BDiqhredvhr",
        "colab_type": "text"
      },
      "cell_type": "markdown",
      "source": [
        "Everything below 2000, unknown and not set could be set to other"
      ]
    },
    {
      "metadata": {
        "id": "2oG6AyJBd6BS",
        "colab_type": "code",
        "colab": {
          "base_uri": "https://localhost:8080/",
          "height": 461
        },
        "outputId": "190618c0-c0a8-4ffd-b132-52ec60670fea"
      },
      "cell_type": "code",
      "source": [
        "df1.groupby(['geoNetwork.continent','geoNetwork.subContinent']).size() #these 2 columns looks good"
      ],
      "execution_count": 68,
      "outputs": [
        {
          "output_type": "execute_result",
          "data": {
            "text/plain": [
              "geoNetwork.continent  geoNetwork.subContinent\n",
              "(not set)             (not set)                    1468\n",
              "Africa                Eastern Africa               1927\n",
              "                      Middle Africa                 393\n",
              "                      Northern Africa              7683\n",
              "                      Southern Africa              2169\n",
              "                      Western Africa               2573\n",
              "Americas              Caribbean                    2406\n",
              "                      Central America             15583\n",
              "                      Northern America           390657\n",
              "                      South America               41731\n",
              "Asia                  Central Asia                 1215\n",
              "                      Eastern Asia                46919\n",
              "                      Southeast Asia              77800\n",
              "                      Southern Asia               59321\n",
              "                      Western Asia                38443\n",
              "Europe                Eastern Europe              45249\n",
              "                      Northern Europe             58168\n",
              "                      Southern Europe             35780\n",
              "                      Western Europe              59114\n",
              "Oceania               Australasia                 14893\n",
              "                      Melanesia                      81\n",
              "                      Micronesian Region             55\n",
              "                      Polynesia                      25\n",
              "dtype: int64"
            ]
          },
          "metadata": {
            "tags": []
          },
          "execution_count": 68
        }
      ]
    },
    {
      "metadata": {
        "id": "yCsSmPxkeF8K",
        "colab_type": "code",
        "colab": {}
      },
      "cell_type": "code",
      "source": [
        "df1.groupby(['geoNetwork.city']).size() #half the entries are not set"
      ],
      "execution_count": 0,
      "outputs": []
    },
    {
      "metadata": {
        "id": "KEAuy06Ke578",
        "colab_type": "code",
        "colab": {}
      },
      "cell_type": "code",
      "source": [
        "df1.groupby(['geoNetwork.region']).size().sort_values() #half the entries are not set and also this seems to be represented under city"
      ],
      "execution_count": 0,
      "outputs": []
    },
    {
      "metadata": {
        "id": "fAJ_l1FrfU5o",
        "colab_type": "code",
        "colab": {}
      },
      "cell_type": "code",
      "source": [
        "df1.groupby(['geoNetwork.metro']).size().sort_values() #70% the entries are not set and also this seems to be represented under city"
      ],
      "execution_count": 0,
      "outputs": []
    },
    {
      "metadata": {
        "id": "S_vdV5BdV4NK",
        "colab_type": "text"
      },
      "cell_type": "markdown",
      "source": [
        "Exploring totals columns next"
      ]
    },
    {
      "metadata": {
        "id": "uAhnErRlV8EC",
        "colab_type": "code",
        "colab": {}
      },
      "cell_type": "code",
      "source": [
        "#replaceing null values in revenue columns with zeros\n",
        "df1['totals.transactionRevenue'].fillna(0, inplace = True)"
      ],
      "execution_count": 0,
      "outputs": []
    },
    {
      "metadata": {
        "id": "6kJgelTzQ82y",
        "colab_type": "code",
        "colab": {}
      },
      "cell_type": "code",
      "source": [
        "df1[['totals.bounces', 'totals.hits', 'totals.newVisits', 'totals.pageviews', 'totals.visits']]"
      ],
      "execution_count": 0,
      "outputs": []
    },
    {
      "metadata": {
        "id": "cQCt2Uz6Xhfc",
        "colab_type": "code",
        "colab": {
          "base_uri": "https://localhost:8080/",
          "height": 88
        },
        "outputId": "a2e284e7-111f-4c14-82ba-8681e472e74d"
      },
      "cell_type": "code",
      "source": [
        "df1.groupby('totals.bounces').size()   #A bounce is a single-page session on your site. I will replace this column with boolean"
      ],
      "execution_count": 52,
      "outputs": [
        {
          "output_type": "execute_result",
          "data": {
            "text/plain": [
              "totals.bounces\n",
              "False    453023\n",
              "True     450630\n",
              "dtype: int64"
            ]
          },
          "metadata": {
            "tags": []
          },
          "execution_count": 52
        }
      ]
    },
    {
      "metadata": {
        "id": "it2e1Ya-Yn4h",
        "colab_type": "code",
        "colab": {}
      },
      "cell_type": "code",
      "source": [
        "#Change Bounce into True and False\n",
        "df1['totals.bounces'] = df1['totals.bounces'].replace(1.0, True)\n",
        "df1['totals.bounces'] = df1['totals.bounces'].fillna(False)"
      ],
      "execution_count": 0,
      "outputs": []
    },
    {
      "metadata": {
        "id": "IWjepKfBZ4sp",
        "colab_type": "code",
        "colab": {
          "base_uri": "https://localhost:8080/",
          "height": 70
        },
        "outputId": "7aa3d4d3-9d24-4eff-d7df-c140f0383d27"
      },
      "cell_type": "code",
      "source": [
        "#Checking if bounces column is correct. If pageviews is greater than 1 then bounces should be false\n",
        "filter_pageviews = df1[df1['totals.pageviews']>1]\n",
        "filter_pageviews  = filter_pageviews.groupby('totals.bounces').size()\n",
        "filter_pageviews"
      ],
      "execution_count": 60,
      "outputs": [
        {
          "output_type": "execute_result",
          "data": {
            "text/plain": [
              "totals.bounces\n",
              "False    451031\n",
              "dtype: int64"
            ]
          },
          "metadata": {
            "tags": []
          },
          "execution_count": 60
        }
      ]
    },
    {
      "metadata": {
        "id": "5NtK7GANbhaf",
        "colab_type": "text"
      },
      "cell_type": "markdown",
      "source": [
        "Bounces seems about right"
      ]
    },
    {
      "metadata": {
        "id": "MIXXAkefYwcw",
        "colab_type": "code",
        "colab": {}
      },
      "cell_type": "code",
      "source": [
        "#Will change new visits similarly. Convert them to boolean\n",
        "\n",
        "#convert New Visit into True and False\n",
        "df1['totals.newVisits'] = df1['totals.newVisits'].replace(1.0, True)\n",
        "df1['totals.newVisits'] = df1['totals.newVisits'].fillna(False)"
      ],
      "execution_count": 0,
      "outputs": []
    },
    {
      "metadata": {
        "id": "WX-4XanGsyKu",
        "colab_type": "text"
      },
      "cell_type": "markdown",
      "source": [
        "Questions: What format should I use to convert visitStartTimecolumn\n",
        "2) Should I drop date column at this stage\n",
        "3) What other features should I extract from the date column\n",
        "4) Should I have date as an index?\n",
        "5)Should I convert the columns to Category at this stage?"
      ]
    },
    {
      "metadata": {
        "id": "c4anrwnfEkFb",
        "colab_type": "text"
      },
      "cell_type": "markdown",
      "source": [
        "# Digging in somemore"
      ]
    },
    {
      "metadata": {
        "id": "oE2e5bpjEcx8",
        "colab_type": "code",
        "colab": {
          "base_uri": "https://localhost:8080/",
          "height": 311
        },
        "outputId": "f812110c-3d08-4713-eec6-24d18e2a0163"
      },
      "cell_type": "code",
      "source": [
        "df1.describe()"
      ],
      "execution_count": 74,
      "outputs": [
        {
          "output_type": "execute_result",
          "data": {
            "text/html": [
              "<div>\n",
              "<style scoped>\n",
              "    .dataframe tbody tr th:only-of-type {\n",
              "        vertical-align: middle;\n",
              "    }\n",
              "\n",
              "    .dataframe tbody tr th {\n",
              "        vertical-align: top;\n",
              "    }\n",
              "\n",
              "    .dataframe thead th {\n",
              "        text-align: right;\n",
              "    }\n",
              "</style>\n",
              "<table border=\"1\" class=\"dataframe\">\n",
              "  <thead>\n",
              "    <tr style=\"text-align: right;\">\n",
              "      <th></th>\n",
              "      <th>visitNumber</th>\n",
              "      <th>visitStartTime</th>\n",
              "      <th>totals.hits</th>\n",
              "      <th>totals.pageviews</th>\n",
              "      <th>totals.transactionRevenue</th>\n",
              "      <th>totals.visits</th>\n",
              "      <th>trafficSource.adwordsClickInfo.page</th>\n",
              "      <th>Month</th>\n",
              "      <th>Week</th>\n",
              "      <th>Weekday</th>\n",
              "      <th>Quarter</th>\n",
              "      <th>Hour</th>\n",
              "    </tr>\n",
              "  </thead>\n",
              "  <tbody>\n",
              "    <tr>\n",
              "      <th>count</th>\n",
              "      <td>903653.000000</td>\n",
              "      <td>9.036530e+05</td>\n",
              "      <td>903653.000000</td>\n",
              "      <td>903553.000000</td>\n",
              "      <td>9.036530e+05</td>\n",
              "      <td>903653.0</td>\n",
              "      <td>21460.000000</td>\n",
              "      <td>903653.000000</td>\n",
              "      <td>903653.000000</td>\n",
              "      <td>903653.000000</td>\n",
              "      <td>903653.000000</td>\n",
              "      <td>903653.000000</td>\n",
              "    </tr>\n",
              "    <tr>\n",
              "      <th>mean</th>\n",
              "      <td>2.264897</td>\n",
              "      <td>1.485007e+09</td>\n",
              "      <td>4.596538</td>\n",
              "      <td>3.849764</td>\n",
              "      <td>1.704273e+06</td>\n",
              "      <td>1.0</td>\n",
              "      <td>1.008108</td>\n",
              "      <td>6.987671</td>\n",
              "      <td>28.483667</td>\n",
              "      <td>2.735183</td>\n",
              "      <td>2.669002</td>\n",
              "      <td>12.529160</td>\n",
              "    </tr>\n",
              "    <tr>\n",
              "      <th>std</th>\n",
              "      <td>9.283735</td>\n",
              "      <td>9.022124e+06</td>\n",
              "      <td>9.641437</td>\n",
              "      <td>7.025274</td>\n",
              "      <td>5.277866e+07</td>\n",
              "      <td>0.0</td>\n",
              "      <td>0.173584</td>\n",
              "      <td>3.484576</td>\n",
              "      <td>15.108878</td>\n",
              "      <td>1.929072</td>\n",
              "      <td>1.140269</td>\n",
              "      <td>6.825449</td>\n",
              "    </tr>\n",
              "    <tr>\n",
              "      <th>min</th>\n",
              "      <td>1.000000</td>\n",
              "      <td>1.470035e+09</td>\n",
              "      <td>1.000000</td>\n",
              "      <td>1.000000</td>\n",
              "      <td>0.000000e+00</td>\n",
              "      <td>1.0</td>\n",
              "      <td>1.000000</td>\n",
              "      <td>1.000000</td>\n",
              "      <td>1.000000</td>\n",
              "      <td>0.000000</td>\n",
              "      <td>1.000000</td>\n",
              "      <td>0.000000</td>\n",
              "    </tr>\n",
              "    <tr>\n",
              "      <th>25%</th>\n",
              "      <td>1.000000</td>\n",
              "      <td>1.477561e+09</td>\n",
              "      <td>1.000000</td>\n",
              "      <td>1.000000</td>\n",
              "      <td>0.000000e+00</td>\n",
              "      <td>1.0</td>\n",
              "      <td>1.000000</td>\n",
              "      <td>4.000000</td>\n",
              "      <td>15.000000</td>\n",
              "      <td>1.000000</td>\n",
              "      <td>2.000000</td>\n",
              "      <td>7.000000</td>\n",
              "    </tr>\n",
              "    <tr>\n",
              "      <th>50%</th>\n",
              "      <td>1.000000</td>\n",
              "      <td>1.483949e+09</td>\n",
              "      <td>2.000000</td>\n",
              "      <td>1.000000</td>\n",
              "      <td>0.000000e+00</td>\n",
              "      <td>1.0</td>\n",
              "      <td>1.000000</td>\n",
              "      <td>7.000000</td>\n",
              "      <td>30.000000</td>\n",
              "      <td>3.000000</td>\n",
              "      <td>3.000000</td>\n",
              "      <td>14.000000</td>\n",
              "    </tr>\n",
              "    <tr>\n",
              "      <th>75%</th>\n",
              "      <td>1.000000</td>\n",
              "      <td>1.492759e+09</td>\n",
              "      <td>4.000000</td>\n",
              "      <td>4.000000</td>\n",
              "      <td>0.000000e+00</td>\n",
              "      <td>1.0</td>\n",
              "      <td>1.000000</td>\n",
              "      <td>10.000000</td>\n",
              "      <td>42.000000</td>\n",
              "      <td>4.000000</td>\n",
              "      <td>4.000000</td>\n",
              "      <td>18.000000</td>\n",
              "    </tr>\n",
              "    <tr>\n",
              "      <th>max</th>\n",
              "      <td>395.000000</td>\n",
              "      <td>1.501657e+09</td>\n",
              "      <td>500.000000</td>\n",
              "      <td>469.000000</td>\n",
              "      <td>2.312950e+10</td>\n",
              "      <td>1.0</td>\n",
              "      <td>14.000000</td>\n",
              "      <td>12.000000</td>\n",
              "      <td>52.000000</td>\n",
              "      <td>6.000000</td>\n",
              "      <td>4.000000</td>\n",
              "      <td>23.000000</td>\n",
              "    </tr>\n",
              "  </tbody>\n",
              "</table>\n",
              "</div>"
            ],
            "text/plain": [
              "         visitNumber  visitStartTime    totals.hits  totals.pageviews  \\\n",
              "count  903653.000000    9.036530e+05  903653.000000     903553.000000   \n",
              "mean        2.264897    1.485007e+09       4.596538          3.849764   \n",
              "std         9.283735    9.022124e+06       9.641437          7.025274   \n",
              "min         1.000000    1.470035e+09       1.000000          1.000000   \n",
              "25%         1.000000    1.477561e+09       1.000000          1.000000   \n",
              "50%         1.000000    1.483949e+09       2.000000          1.000000   \n",
              "75%         1.000000    1.492759e+09       4.000000          4.000000   \n",
              "max       395.000000    1.501657e+09     500.000000        469.000000   \n",
              "\n",
              "       totals.transactionRevenue  totals.visits  \\\n",
              "count               9.036530e+05       903653.0   \n",
              "mean                1.704273e+06            1.0   \n",
              "std                 5.277866e+07            0.0   \n",
              "min                 0.000000e+00            1.0   \n",
              "25%                 0.000000e+00            1.0   \n",
              "50%                 0.000000e+00            1.0   \n",
              "75%                 0.000000e+00            1.0   \n",
              "max                 2.312950e+10            1.0   \n",
              "\n",
              "       trafficSource.adwordsClickInfo.page          Month           Week  \\\n",
              "count                         21460.000000  903653.000000  903653.000000   \n",
              "mean                              1.008108       6.987671      28.483667   \n",
              "std                               0.173584       3.484576      15.108878   \n",
              "min                               1.000000       1.000000       1.000000   \n",
              "25%                               1.000000       4.000000      15.000000   \n",
              "50%                               1.000000       7.000000      30.000000   \n",
              "75%                               1.000000      10.000000      42.000000   \n",
              "max                              14.000000      12.000000      52.000000   \n",
              "\n",
              "             Weekday        Quarter           Hour  \n",
              "count  903653.000000  903653.000000  903653.000000  \n",
              "mean        2.735183       2.669002      12.529160  \n",
              "std         1.929072       1.140269       6.825449  \n",
              "min         0.000000       1.000000       0.000000  \n",
              "25%         1.000000       2.000000       7.000000  \n",
              "50%         3.000000       3.000000      14.000000  \n",
              "75%         4.000000       4.000000      18.000000  \n",
              "max         6.000000       4.000000      23.000000  "
            ]
          },
          "metadata": {
            "tags": []
          },
          "execution_count": 74
        }
      ]
    },
    {
      "metadata": {
        "id": "V-uwdtrseaXB",
        "colab_type": "code",
        "colab": {
          "base_uri": "https://localhost:8080/",
          "height": 301
        },
        "outputId": "970e3846-a8fb-498c-a1a6-54f354e0698e"
      },
      "cell_type": "code",
      "source": [
        "# Current Columns\n",
        "df1.columns"
      ],
      "execution_count": 75,
      "outputs": [
        {
          "output_type": "execute_result",
          "data": {
            "text/plain": [
              "Index(['channelGrouping', 'date', 'fullVisitorId', 'visitId', 'visitNumber',\n",
              "       'visitStartTime', 'device.browser', 'device.deviceCategory',\n",
              "       'device.operatingSystem', 'geoNetwork.city', 'geoNetwork.continent',\n",
              "       'geoNetwork.country', 'geoNetwork.metro', 'geoNetwork.networkDomain',\n",
              "       'geoNetwork.region', 'geoNetwork.subContinent', 'totals.bounces',\n",
              "       'totals.hits', 'totals.newVisits', 'totals.pageviews',\n",
              "       'totals.transactionRevenue', 'totals.visits', 'trafficSource.adContent',\n",
              "       'trafficSource.adwordsClickInfo.adNetworkType',\n",
              "       'trafficSource.adwordsClickInfo.gclId',\n",
              "       'trafficSource.adwordsClickInfo.isVideoAd',\n",
              "       'trafficSource.adwordsClickInfo.page',\n",
              "       'trafficSource.adwordsClickInfo.slot', 'trafficSource.campaign',\n",
              "       'trafficSource.isTrueDirect', 'trafficSource.keyword',\n",
              "       'trafficSource.medium', 'trafficSource.referralPath',\n",
              "       'trafficSource.source', 'Month', 'Week', 'Weekday', 'Quarter', 'Hour'],\n",
              "      dtype='object')"
            ]
          },
          "metadata": {
            "tags": []
          },
          "execution_count": 75
        }
      ]
    },
    {
      "metadata": {
        "id": "6ns8Po3Qf-jZ",
        "colab_type": "text"
      },
      "cell_type": "markdown",
      "source": [
        "Figuring out the deal with the trafficsource columns"
      ]
    },
    {
      "metadata": {
        "id": "pmucyxZmEqSM",
        "colab_type": "code",
        "colab": {
          "base_uri": "https://localhost:8080/",
          "height": 437
        },
        "outputId": "521f7a21-e17a-4ed4-aa53-a8726ca9f845"
      },
      "cell_type": "code",
      "source": [
        "#Bar plot to check the categories of Traffic Sources\n",
        "sns.countplot(x = 'trafficSource.medium', data = df1)"
      ],
      "execution_count": 76,
      "outputs": [
        {
          "output_type": "stream",
          "text": [
            "/usr/local/lib/python3.6/dist-packages/seaborn/categorical.py:1428: FutureWarning: remove_na is deprecated and is a private function. Do not use.\n",
            "  stat_data = remove_na(group_data)\n"
          ],
          "name": "stderr"
        },
        {
          "output_type": "execute_result",
          "data": {
            "text/plain": [
              "<matplotlib.axes._subplots.AxesSubplot at 0x7fc7201aec88>"
            ]
          },
          "metadata": {
            "tags": []
          },
          "execution_count": 76
        },
        {
          "output_type": "display_data",
          "data": {
            "image/png": "[encoded data removed]",
            "text/plain": [
              "<matplotlib.figure.Figure at 0x7fc720233710>"
            ]
          },
          "metadata": {
            "tags": []
          }
        }
      ]
    },
    {
      "metadata": {
        "id": "OX5AA42MF7yd",
        "colab_type": "text"
      },
      "cell_type": "markdown",
      "source": [
        "Looking to understand why there are a large number of (none) in the medium column"
      ]
    },
    {
      "metadata": {
        "id": "2wIL0dEnFNo5",
        "colab_type": "code",
        "colab": {
          "base_uri": "https://localhost:8080/",
          "height": 437
        },
        "outputId": "1e0ddd4a-5747-48ce-bcd7-26fc4de1ee78"
      },
      "cell_type": "code",
      "source": [
        "#this column is very similar to the column above\n",
        "sns.countplot(x = 'channelGrouping', data = df1)"
      ],
      "execution_count": 77,
      "outputs": [
        {
          "output_type": "stream",
          "text": [
            "/usr/local/lib/python3.6/dist-packages/seaborn/categorical.py:1428: FutureWarning: remove_na is deprecated and is a private function. Do not use.\n",
            "  stat_data = remove_na(group_data)\n"
          ],
          "name": "stderr"
        },
        {
          "output_type": "execute_result",
          "data": {
            "text/plain": [
              "<matplotlib.axes._subplots.AxesSubplot at 0x7fc720184a20>"
            ]
          },
          "metadata": {
            "tags": []
          },
          "execution_count": 77
        },
        {
          "output_type": "display_data",
          "data": {
            "image/png": "[encoded data removed]",
            "text/plain": [
              "<matplotlib.figure.Figure at 0x7fc72016cda0>"
            ]
          },
          "metadata": {
            "tags": []
          }
        }
      ]
    },
    {
      "metadata": {
        "id": "ebZF2lJwyK77",
        "colab_type": "code",
        "colab": {
          "base_uri": "https://localhost:8080/",
          "height": 195
        },
        "outputId": "166e4a0d-9b61-42f4-c597-4d0b9ec2ee1d"
      },
      "cell_type": "code",
      "source": [
        "df1.groupby('channelGrouping')['channelGrouping'].count()"
      ],
      "execution_count": 78,
      "outputs": [
        {
          "output_type": "execute_result",
          "data": {
            "text/plain": [
              "channelGrouping\n",
              "(Other)              120\n",
              "Affiliates         16403\n",
              "Direct            143026\n",
              "Display             6262\n",
              "Organic Search    381561\n",
              "Paid Search        25326\n",
              "Referral          104838\n",
              "Social            226117\n",
              "Name: channelGrouping, dtype: int64"
            ]
          },
          "metadata": {
            "tags": []
          },
          "execution_count": 78
        }
      ]
    },
    {
      "metadata": {
        "id": "91deeeArE8Li",
        "colab_type": "text"
      },
      "cell_type": "markdown",
      "source": [
        " Seems like trafficsource. medium and channel grouping are similar but 'Direct' is grouped as none under trafficesource.medium column"
      ]
    },
    {
      "metadata": {
        "id": "yL3BzJb-zhdD",
        "colab_type": "code",
        "colab": {}
      },
      "cell_type": "code",
      "source": [
        "display_search = df1[df1['trafficSource.medium']== 'Display(CPM)']"
      ],
      "execution_count": 0,
      "outputs": []
    },
    {
      "metadata": {
        "id": "KHSRFEzRzpI8",
        "colab_type": "code",
        "colab": {}
      },
      "cell_type": "code",
      "source": [
        "display_search[['trafficSource.adContent', 'trafficSource.adwordsClickInfo.adNetworkType',        \n",
        "'trafficSource.adwordsClickInfo.gclId', 'trafficSource.adwordsClickInfo.isVideoAd', 'trafficSource.adwordsClickInfo.page', 'trafficSource.adwordsClickInfo.slot', 'trafficSource.campaign']]"
      ],
      "execution_count": 0,
      "outputs": []
    },
    {
      "metadata": {
        "id": "aMEkUgdx0EYC",
        "colab_type": "code",
        "colab": {}
      },
      "cell_type": "code",
      "source": [
        "df1.groupby(['trafficSource.medium', 'trafficSource.adContent'])['trafficSource.adContent'].count()"
      ],
      "execution_count": 0,
      "outputs": []
    },
    {
      "metadata": {
        "id": "DHBCIPNVvLpf",
        "colab_type": "code",
        "colab": {}
      },
      "cell_type": "code",
      "source": [
        "paid_search = df1[df1['trafficSource.medium']== 'Paid Search(CPC)']"
      ],
      "execution_count": 0,
      "outputs": []
    },
    {
      "metadata": {
        "id": "UNeEoYPJveNt",
        "colab_type": "code",
        "colab": {}
      },
      "cell_type": "code",
      "source": [
        "paid_search[['trafficSource.adContent', 'trafficSource.adwordsClickInfo.adNetworkType',        \n",
        "'trafficSource.adwordsClickInfo.gclId', 'trafficSource.adwordsClickInfo.isVideoAd', 'trafficSource.adwordsClickInfo.page', 'trafficSource.adwordsClickInfo.slot', 'trafficSource.campaign']]"
      ],
      "execution_count": 0,
      "outputs": []
    },
    {
      "metadata": {
        "id": "YQqnW2Zx2evp",
        "colab_type": "code",
        "colab": {
          "base_uri": "https://localhost:8080/",
          "height": 35
        },
        "outputId": "803cfcfe-e51c-4f35-a784-1ecd97cbd7da"
      },
      "cell_type": "code",
      "source": [
        "paid_search['trafficSource.adwordsClickInfo.adNetworkType'].count()"
      ],
      "execution_count": 115,
      "outputs": [
        {
          "output_type": "execute_result",
          "data": {
            "text/plain": [
              "21460"
            ]
          },
          "metadata": {
            "tags": []
          },
          "execution_count": 115
        }
      ]
    },
    {
      "metadata": {
        "id": "gSjVCkez2smw",
        "colab_type": "text"
      },
      "cell_type": "markdown",
      "source": [
        "All the adword columns fall under Paid Search(CPC)"
      ]
    },
    {
      "metadata": {
        "id": "QxyMe2rcv-6k",
        "colab_type": "code",
        "colab": {}
      },
      "cell_type": "code",
      "source": [
        "df1.groupby('trafficSource.campaign')['trafficSource.campaign'].count()"
      ],
      "execution_count": 0,
      "outputs": []
    },
    {
      "metadata": {
        "id": "OQFiuVEWwnfQ",
        "colab_type": "code",
        "colab": {}
      },
      "cell_type": "code",
      "source": [
        "df1.groupby('trafficSource.adwordsClickInfo.slot')['trafficSource.adwordsClickInfo.slot'].count()"
      ],
      "execution_count": 0,
      "outputs": []
    },
    {
      "metadata": {
        "id": "60H0D1Hwx6mf",
        "colab_type": "text"
      },
      "cell_type": "markdown",
      "source": [
        "clickinfo.slot gives the placement of the adwork"
      ]
    },
    {
      "metadata": {
        "id": "qsRMzqK8w3py",
        "colab_type": "code",
        "colab": {}
      },
      "cell_type": "code",
      "source": [
        "df1.groupby('trafficSource.adwordsClickInfo.page')['trafficSource.adwordsClickInfo.page'].count()"
      ],
      "execution_count": 0,
      "outputs": []
    },
    {
      "metadata": {
        "id": "uv-7oxcTyklV",
        "colab_type": "text"
      },
      "cell_type": "markdown",
      "source": [
        "Probably gives the page number of the clicked adwords"
      ]
    },
    {
      "metadata": {
        "id": "g4OkHt5qFjSR",
        "colab_type": "code",
        "colab": {
          "base_uri": "https://localhost:8080/",
          "height": 35
        },
        "outputId": "ec9528f2-c652-447e-844f-280b4019c50d"
      },
      "cell_type": "code",
      "source": [
        "df1[df1['trafficSource.source'] == '(direct)']['trafficSource.source'].count()"
      ],
      "execution_count": 30,
      "outputs": [
        {
          "output_type": "execute_result",
          "data": {
            "text/plain": [
              "143028"
            ]
          },
          "metadata": {
            "tags": []
          },
          "execution_count": 30
        }
      ]
    },
    {
      "metadata": {
        "id": "PkcEYrG54SkC",
        "colab_type": "code",
        "colab": {
          "base_uri": "https://localhost:8080/",
          "height": 97
        },
        "outputId": "5cb7714b-cc13-41da-ea54-46ef2337d386"
      },
      "cell_type": "code",
      "source": [
        "you_tubevideo = df1[(df1['trafficSource.source'].str.contains(\"tube\")) & (df1['trafficSource.medium']== 'Paid Search(CPC)')]\n",
        "you_tubevideo"
      ],
      "execution_count": 122,
      "outputs": [
        {
          "output_type": "execute_result",
          "data": {
            "text/html": [
              "<div>\n",
              "<style scoped>\n",
              "    .dataframe tbody tr th:only-of-type {\n",
              "        vertical-align: middle;\n",
              "    }\n",
              "\n",
              "    .dataframe tbody tr th {\n",
              "        vertical-align: top;\n",
              "    }\n",
              "\n",
              "    .dataframe thead th {\n",
              "        text-align: right;\n",
              "    }\n",
              "</style>\n",
              "<table border=\"1\" class=\"dataframe\">\n",
              "  <thead>\n",
              "    <tr style=\"text-align: right;\">\n",
              "      <th></th>\n",
              "      <th>channelGrouping</th>\n",
              "      <th>date</th>\n",
              "      <th>fullVisitorId</th>\n",
              "      <th>sessionId</th>\n",
              "      <th>visitId</th>\n",
              "      <th>visitNumber</th>\n",
              "      <th>visitStartTime</th>\n",
              "      <th>device.browser</th>\n",
              "      <th>device.deviceCategory</th>\n",
              "      <th>device.isMobile</th>\n",
              "      <th>...</th>\n",
              "      <th>trafficSource.isTrueDirect</th>\n",
              "      <th>trafficSource.keyword</th>\n",
              "      <th>trafficSource.medium</th>\n",
              "      <th>trafficSource.referralPath</th>\n",
              "      <th>trafficSource.source</th>\n",
              "      <th>Month</th>\n",
              "      <th>Week</th>\n",
              "      <th>Weekday</th>\n",
              "      <th>Quarter</th>\n",
              "      <th>Hour</th>\n",
              "    </tr>\n",
              "  </thead>\n",
              "  <tbody>\n",
              "  </tbody>\n",
              "</table>\n",
              "<p>0 rows × 41 columns</p>\n",
              "</div>"
            ],
            "text/plain": [
              "Empty DataFrame\n",
              "Columns: [channelGrouping, date, fullVisitorId, sessionId, visitId, visitNumber, visitStartTime, device.browser, device.deviceCategory, device.isMobile, device.operatingSystem, geoNetwork.city, geoNetwork.continent, geoNetwork.country, geoNetwork.metro, geoNetwork.networkDomain, geoNetwork.region, geoNetwork.subContinent, totals.bounces, totals.hits, totals.newVisits, totals.pageviews, totals.transactionRevenue, totals.visits, trafficSource.adContent, trafficSource.adwordsClickInfo.adNetworkType, trafficSource.adwordsClickInfo.gclId, trafficSource.adwordsClickInfo.isVideoAd, trafficSource.adwordsClickInfo.page, trafficSource.adwordsClickInfo.slot, trafficSource.campaign, trafficSource.isTrueDirect, trafficSource.keyword, trafficSource.medium, trafficSource.referralPath, trafficSource.source, Month, Week, Weekday, Quarter, Hour]\n",
              "Index: []\n",
              "\n",
              "[0 rows x 41 columns]"
            ]
          },
          "metadata": {
            "tags": []
          },
          "execution_count": 122
        }
      ]
    },
    {
      "metadata": {
        "id": "hKQpVYmrrUaV",
        "colab_type": "code",
        "colab": {}
      },
      "cell_type": "code",
      "source": [
        "# Replacing CMC, CPC and (none) in medium with Paid Search (CPC), Display(CPM) and Direct\n",
        "df1['trafficSource.medium'] = df1['trafficSource.medium'].str.replace('cpc', 'Paid Search(CPC)')\n",
        "df1['trafficSource.medium'] = df1['trafficSource.medium'].str.replace('cpm', 'Display(CPM)')\n",
        "df1['trafficSource.medium'] = df1['trafficSource.medium'].str.replace('(none)', 'Direct')\n",
        "df1['trafficSource.medium'] = df1['trafficSource.medium'].str.replace('organic', 'Organic Search')\n",
        "df1['trafficSource.medium'] = df1['trafficSource.medium'].str.replace('referral', 'Referral')\n",
        "df1['trafficSource.medium'] = df1['trafficSource.medium'].str.replace('affiliate', 'Affiliates')\n",
        "df1['channelGrouping'] = df1['channelGrouping'].str.replace('Paid Search', 'Paid Search(CPC)')\n",
        "df1['channelGrouping'] = df1['channelGrouping'].str.replace('Display', 'Display(CPM)')\n",
        "\n"
      ],
      "execution_count": 0,
      "outputs": []
    },
    {
      "metadata": {
        "id": "X1uiKuM1E673",
        "colab_type": "text"
      },
      "cell_type": "markdown",
      "source": [
        "'Direct' channel is represented similarly under trafficSource.source column as well "
      ]
    },
    {
      "metadata": {
        "id": "XguOj5bLFtHZ",
        "colab_type": "code",
        "colab": {
          "base_uri": "https://localhost:8080/",
          "height": 35
        },
        "outputId": "406b1f8a-ac14-4c0f-cea8-d376827a9b64"
      },
      "cell_type": "code",
      "source": [
        "#Exploring the trafficSource.isTrueDirect column\n",
        "df1[df1['trafficSource.isTrueDirect']== True]['trafficSource.isTrueDirect'].count()"
      ],
      "execution_count": 22,
      "outputs": [
        {
          "output_type": "execute_result",
          "data": {
            "text/plain": [
              "274005"
            ]
          },
          "metadata": {
            "tags": []
          },
          "execution_count": 22
        }
      ]
    },
    {
      "metadata": {
        "id": "IJOvecLIGhNZ",
        "colab_type": "text"
      },
      "cell_type": "markdown",
      "source": [
        "The number of Direct is higher than the above 3 columns. There are 143,028 in above columns and 274,005 in trafficSource.isTrueDirect column"
      ]
    },
    {
      "metadata": {
        "id": "R04_U8XrHVVZ",
        "colab_type": "code",
        "colab": {}
      },
      "cell_type": "code",
      "source": [
        "#Replacing the null values in trafficSource.isTrueDirect column with False\n",
        "df1['trafficSource.isTrueDirect'] = df1['trafficSource.isTrueDirect'].fillna(False)"
      ],
      "execution_count": 0,
      "outputs": []
    },
    {
      "metadata": {
        "id": "1P_cc-KgH0g9",
        "colab_type": "code",
        "colab": {
          "base_uri": "https://localhost:8080/",
          "height": 177
        },
        "outputId": "a4622727-451b-4c51-bac2-968273308365"
      },
      "cell_type": "code",
      "source": [
        "direct_source = df1[df1['trafficSource.isTrueDirect'] == True]['channelGrouping'].value_counts().sort_index()\n",
        "direct_source"
      ],
      "execution_count": 36,
      "outputs": [
        {
          "output_type": "execute_result",
          "data": {
            "text/plain": [
              "(Other)               18\n",
              "Affiliates          2937\n",
              "Direct            143024\n",
              "Display             1615\n",
              "Organic Search     68134\n",
              "Paid Search         4789\n",
              "Referral           40356\n",
              "Social             13132\n",
              "Name: channelGrouping, dtype: int64"
            ]
          },
          "metadata": {
            "tags": []
          },
          "execution_count": 36
        }
      ]
    },
    {
      "metadata": {
        "id": "g5szvy9MKKIL",
        "colab_type": "text"
      },
      "cell_type": "markdown",
      "source": [
        "Looks like some of the direct might be wrongly classified\n",
        "\n",
        "\n",
        "\n"
      ]
    },
    {
      "metadata": {
        "id": "vqoAtahFIlHR",
        "colab_type": "code",
        "colab": {
          "base_uri": "https://localhost:8080/",
          "height": 88
        },
        "outputId": "15f5d3bf-e861-4aa1-c15a-660bc619cf48"
      },
      "cell_type": "code",
      "source": [
        "df1.groupby('trafficSource.adwordsClickInfo.adNetworkType')['trafficSource.adwordsClickInfo.adNetworkType'].count()"
      ],
      "execution_count": 114,
      "outputs": [
        {
          "output_type": "execute_result",
          "data": {
            "text/plain": [
              "trafficSource.adwordsClickInfo.adNetworkType\n",
              "Google Search      21453\n",
              "Search partners        7\n",
              "Name: trafficSource.adwordsClickInfo.adNetworkType, dtype: int64"
            ]
          },
          "metadata": {
            "tags": []
          },
          "execution_count": 114
        }
      ]
    },
    {
      "metadata": {
        "id": "p0Ga34LJ_prs",
        "colab_type": "code",
        "colab": {}
      },
      "cell_type": "code",
      "source": [
        "# Exploring adwords\n",
        "df1[['trafficSource.adContent', 'trafficSource.adwordsClickInfo.adNetworkType',        \n",
        "'trafficSource.adwordsClickInfo.gclId', 'trafficSource.adwordsClickInfo.isVideoAd', 'trafficSource.adwordsClickInfo.page', 'trafficSource.adwordsClickInfo.slot', 'trafficSource.campaign']]"
      ],
      "execution_count": 0,
      "outputs": []
    },
    {
      "metadata": {
        "id": "x_Wz2YJBLOEH",
        "colab_type": "code",
        "colab": {}
      },
      "cell_type": "code",
      "source": [
        "df1.groupby(['trafficSource.adwordsClickInfo.adNetworkType', 'trafficSource.adContent'])['trafficSource.adContent'].count()"
      ],
      "execution_count": 0,
      "outputs": []
    },
    {
      "metadata": {
        "id": "JImXViXMNJdj",
        "colab_type": "code",
        "colab": {}
      },
      "cell_type": "code",
      "source": [
        "df1.groupby(['trafficSource.adContent', 'trafficSource.adwordsClickInfo.isVideoAd'])['trafficSource.adContent'].count()"
      ],
      "execution_count": 0,
      "outputs": []
    },
    {
      "metadata": {
        "id": "Yclrct05_ppT",
        "colab_type": "code",
        "colab": {}
      },
      "cell_type": "code",
      "source": [
        "df1.groupby('trafficSource.adContent')['trafficSource.adContent'].count()"
      ],
      "execution_count": 0,
      "outputs": []
    },
    {
      "metadata": {
        "id": "onQ94kRkP4MU",
        "colab_type": "text"
      },
      "cell_type": "markdown",
      "source": [
        "the isvideoad column only has False Values. One idea is to replace evrrything which is not organic and Youtube as True for this column "
      ]
    },
    {
      "metadata": {
        "id": "P615_lBlUcUq",
        "colab_type": "code",
        "colab": {}
      },
      "cell_type": "code",
      "source": [
        "df1[df1['trafficSource.adwordsClickInfo.isVideoAd'].isnull()]"
      ],
      "execution_count": 0,
      "outputs": []
    },
    {
      "metadata": {
        "id": "EW33ig6P7AW4",
        "colab_type": "code",
        "colab": {}
      },
      "cell_type": "code",
      "source": [
        "df1.groupby('geoNetwork.country')['totals.transactionRevenue'].sum()"
      ],
      "execution_count": 0,
      "outputs": []
    },
    {
      "metadata": {
        "id": "lp0zZrq4WOHO",
        "colab_type": "code",
        "colab": {}
      },
      "cell_type": "code",
      "source": [
        ""
      ],
      "execution_count": 0,
      "outputs": []
    },
    {
      "metadata": {
        "id": "E0GPBkgnulk4",
        "colab_type": "text"
      },
      "cell_type": "markdown",
      "source": [
        "# EDA"
      ]
    },
    {
      "metadata": {
        "id": "ACJH9n408oaS",
        "colab_type": "code",
        "colab": {
          "base_uri": "https://localhost:8080/",
          "height": 449
        },
        "outputId": "7c26cff1-f719-4e8a-b921-b99f849d7173"
      },
      "cell_type": "code",
      "source": [
        "#Revenue by Channel\n",
        "df1.groupby('channelGrouping')['totals.transactionRevenue'].sum().plot(kind = 'bar')\n",
        "plt.xlabel(\"Channel Grouping\")\n",
        "plt.ylabel(\"Revenue\")"
      ],
      "execution_count": 116,
      "outputs": [
        {
          "output_type": "execute_result",
          "data": {
            "text/plain": [
              "Text(0,0.5,'Revenue')"
            ]
          },
          "metadata": {
            "tags": []
          },
          "execution_count": 116
        },
        {
          "output_type": "display_data",
          "data": {
            "image/png": "[encoded data removed]",
            "text/plain": [
              "<matplotlib.figure.Figure at 0x7fc72016d860>"
            ]
          },
          "metadata": {
            "tags": []
          }
        }
      ]
    },
    {
      "metadata": {
        "id": "FYFTajqSCJBV",
        "colab_type": "code",
        "colab": {
          "base_uri": "https://localhost:8080/",
          "height": 441
        },
        "outputId": "cf2b9730-4057-4466-9ee5-8e4d9cdb4838"
      },
      "cell_type": "code",
      "source": [
        "#Traffic by Channel\n",
        "df1.groupby('channelGrouping')['visitId'].count().plot(kind = 'bar')\n",
        "plt.xlabel(\"Channel Grouping\")\n",
        "plt.ylabel(\"Traffic\")"
      ],
      "execution_count": 117,
      "outputs": [
        {
          "output_type": "execute_result",
          "data": {
            "text/plain": [
              "Text(0,0.5,'Traffic')"
            ]
          },
          "metadata": {
            "tags": []
          },
          "execution_count": 117
        },
        {
          "output_type": "display_data",
          "data": {
            "image/png": "[encoded data removed]",
            "text/plain": [
              "<matplotlib.figure.Figure at 0x7fc70e104160>"
            ]
          },
          "metadata": {
            "tags": []
          }
        }
      ]
    },
    {
      "metadata": {
        "id": "xlOrHyVdCigP",
        "colab_type": "code",
        "colab": {
          "base_uri": "https://localhost:8080/",
          "height": 449
        },
        "outputId": "f27707ba-3ae1-4548-dd14-c2eeda41a2b0"
      },
      "cell_type": "code",
      "source": [
        "#Traffic to revenue ratio\n",
        "(df1.groupby('channelGrouping')['totals.transactionRevenue'].sum()/df1.groupby('channelGrouping')['visitId'].count()).plot(kind = 'bar')\n",
        "plt.xlabel(\"Channel Grouping\")\n",
        "plt.ylabel(\"Total Revenue/Total Visitors\")\n"
      ],
      "execution_count": 118,
      "outputs": [
        {
          "output_type": "execute_result",
          "data": {
            "text/plain": [
              "Text(0,0.5,'Total Revenue/Total Visitors')"
            ]
          },
          "metadata": {
            "tags": []
          },
          "execution_count": 118
        },
        {
          "output_type": "display_data",
          "data": {
            "image/png": "[encoded data removed]",
            "text/plain": [
              "<matplotlib.figure.Figure at 0x7fc6e552a320>"
            ]
          },
          "metadata": {
            "tags": []
          }
        }
      ]
    },
    {
      "metadata": {
        "id": "6wt-mQeDEqV_",
        "colab_type": "text"
      },
      "cell_type": "markdown",
      "source": [
        "Display channel has the highest paying customer base"
      ]
    },
    {
      "metadata": {
        "id": "eQzewSKZ8ojH",
        "colab_type": "code",
        "colab": {}
      },
      "cell_type": "code",
      "source": [
        "#Traffic by country (top 20)\n",
        "traffic_country = df1[df1['totals.transactionRevenue'] >= 4000]\n",
        "traffic_country.groupby('geoNetwork.region').size()"
      ],
      "execution_count": 0,
      "outputs": []
    },
    {
      "metadata": {
        "id": "e6ciOqUZKoq8",
        "colab_type": "code",
        "colab": {}
      },
      "cell_type": "code",
      "source": [
        "#Revenue by country (top 20)\n",
        "df1.groupby('channelGrouping')['totals.transactionRevenue'].count().plot(kind = 'bar')"
      ],
      "execution_count": 0,
      "outputs": []
    },
    {
      "metadata": {
        "id": "BmaaPIHyv-dI",
        "colab_type": "code",
        "colab": {
          "base_uri": "https://localhost:8080/",
          "height": 410
        },
        "outputId": "5b6ec010-1a8e-406e-d351-5c3a159a894a"
      },
      "cell_type": "code",
      "source": [
        "#Traffic by continent\n",
        "df1.groupby('geoNetwork.continent')['visitId'].count().plot(kind = 'bar')\n",
        "plt.xlabel(\"Continent\")\n",
        "plt.ylabel(\"Traffic\")"
      ],
      "execution_count": 121,
      "outputs": [
        {
          "output_type": "execute_result",
          "data": {
            "text/plain": [
              "Text(0,0.5,'Traffic')"
            ]
          },
          "metadata": {
            "tags": []
          },
          "execution_count": 121
        },
        {
          "output_type": "display_data",
          "data": {
            "image/png": "[encoded data removed]",
            "text/plain": [
              "<matplotlib.figure.Figure at 0x7fc70952b160>"
            ]
          },
          "metadata": {
            "tags": []
          }
        }
      ]
    },
    {
      "metadata": {
        "id": "gXMl4TgfwKfV",
        "colab_type": "code",
        "colab": {
          "base_uri": "https://localhost:8080/",
          "height": 421
        },
        "outputId": "9d2a279e-1bcd-40c7-d67a-0e05c9c7e486"
      },
      "cell_type": "code",
      "source": [
        "#Revenue by continent\n",
        "df1.groupby('geoNetwork.continent')['totals.transactionRevenue'].sum().plot(kind = 'bar')\n",
        "plt.xlabel(\"Continent\")\n",
        "plt.ylabel(\"Revenue\")"
      ],
      "execution_count": 128,
      "outputs": [
        {
          "output_type": "execute_result",
          "data": {
            "text/plain": [
              "Text(0,0.5,'Revenue')"
            ]
          },
          "metadata": {
            "tags": []
          },
          "execution_count": 128
        },
        {
          "output_type": "display_data",
          "data": {
            "image/png": "[encoded data removed]",
            "text/plain": [
              "<matplotlib.figure.Figure at 0x7fc70fbc5c50>"
            ]
          },
          "metadata": {
            "tags": []
          }
        }
      ]
    },
    {
      "metadata": {
        "id": "Uqb4643twMHa",
        "colab_type": "code",
        "colab": {
          "base_uri": "https://localhost:8080/",
          "height": 457
        },
        "outputId": "12794170-f179-491d-c3dd-f286b4fba1bc"
      },
      "cell_type": "code",
      "source": [
        "#Traffic by subcontinent\n",
        "df1.groupby('geoNetwork.subContinent')['visitId'].count().plot(kind = 'bar')\n",
        "plt.xlabel(\"SubContinent\")\n",
        "plt.ylabel(\"Traffic\")"
      ],
      "execution_count": 122,
      "outputs": [
        {
          "output_type": "execute_result",
          "data": {
            "text/plain": [
              "Text(0,0.5,'Traffic')"
            ]
          },
          "metadata": {
            "tags": []
          },
          "execution_count": 122
        },
        {
          "output_type": "display_data",
          "data": {
            "image/png": "[encoded data removed]",
            "text/plain": [
              "<matplotlib.figure.Figure at 0x7fc70ec43048>"
            ]
          },
          "metadata": {
            "tags": []
          }
        }
      ]
    },
    {
      "metadata": {
        "id": "f17tsPCSwOro",
        "colab_type": "code",
        "colab": {
          "base_uri": "https://localhost:8080/",
          "height": 468
        },
        "outputId": "d5005191-6fde-4f4c-d21b-c8ae4f9e2c9c"
      },
      "cell_type": "code",
      "source": [
        "#Revenue by subcontinent\n",
        "df1.groupby('geoNetwork.subContinent')['totals.transactionRevenue'].sum().plot(kind = 'bar')\n",
        "plt.xlabel(\"SubContinent\")\n",
        "plt.ylabel(\"Revenue\")"
      ],
      "execution_count": 126,
      "outputs": [
        {
          "output_type": "execute_result",
          "data": {
            "text/plain": [
              "Text(0,0.5,'Revenue')"
            ]
          },
          "metadata": {
            "tags": []
          },
          "execution_count": 126
        },
        {
          "output_type": "display_data",
          "data": {
            "image/png": "[encoded data removed]",
            "text/plain": [
              "<matplotlib.figure.Figure at 0x7fc70fd2a4a8>"
            ]
          },
          "metadata": {
            "tags": []
          }
        }
      ]
    },
    {
      "metadata": {
        "id": "689fWnMf_x1H",
        "colab_type": "code",
        "colab": {
          "base_uri": "https://localhost:8080/",
          "height": 580
        },
        "outputId": "38c03660-6a56-44be-bf39-2b4b0604de81"
      },
      "cell_type": "code",
      "source": [
        "df1.groupby('device.browser')['visitId'].count().plot(kind = 'bar')\n",
        "plt.xlabel(\"Browser\")\n",
        "plt.ylabel(\"Traffic\")"
      ],
      "execution_count": 134,
      "outputs": [
        {
          "output_type": "execute_result",
          "data": {
            "text/plain": [
              "Text(0,0.5,'Traffic')"
            ]
          },
          "metadata": {
            "tags": []
          },
          "execution_count": 134
        },
        {
          "output_type": "display_data",
          "data": {
            "image/png": "[encoded data removed]",
            "text/plain": [
              "<matplotlib.figure.Figure at 0x7fc70f541048>"
            ]
          },
          "metadata": {
            "tags": []
          }
        }
      ]
    },
    {
      "metadata": {
        "id": "OQQ9Z812LwSx",
        "colab_type": "code",
        "colab": {
          "base_uri": "https://localhost:8080/",
          "height": 580
        },
        "outputId": "c2668019-ce6d-4cee-da5d-c350db9c7f70"
      },
      "cell_type": "code",
      "source": [
        "#Traffic by Browser\n",
        "(df1.groupby('device.browser')['totals.transactionRevenue'].sum()/df1.groupby('device.browser')['visitId'].count()).plot(kind = 'bar')\n",
        "plt.xlabel(\"Browser\")\n",
        "plt.ylabel(\"Traffic\")"
      ],
      "execution_count": 133,
      "outputs": [
        {
          "output_type": "execute_result",
          "data": {
            "text/plain": [
              "Text(0,0.5,'Traffic')"
            ]
          },
          "metadata": {
            "tags": []
          },
          "execution_count": 133
        },
        {
          "output_type": "display_data",
          "data": {
            "image/png": "[encoded data removed]",
            "text/plain": [
              "<matplotlib.figure.Figure at 0x7fc70f8b9908>"
            ]
          },
          "metadata": {
            "tags": []
          }
        }
      ]
    },
    {
      "metadata": {
        "id": "iM0ns7dPAChq",
        "colab_type": "text"
      },
      "cell_type": "markdown",
      "source": [
        "Revenue to traffic ratio is quite high for Firefox"
      ]
    },
    {
      "metadata": {
        "id": "mjqAAfczAK-E",
        "colab_type": "text"
      },
      "cell_type": "markdown",
      "source": [
        "I will create 3 subplots for each metric"
      ]
    },
    {
      "metadata": {
        "id": "87gzz83h8o0u",
        "colab_type": "code",
        "colab": {
          "base_uri": "https://localhost:8080/",
          "height": 892
        },
        "outputId": "4acce448-d51e-4743-f759-9b993e726243"
      },
      "cell_type": "code",
      "source": [
        "#Visitor Plots\n",
        "_ = plt.plot(x = 'date', y = 'visitId', data = df1, kind = 'line')"
      ],
      "execution_count": 129,
      "outputs": [
        {
          "output_type": "error",
          "ename": "ValueError",
          "evalue": "ignored",
          "traceback": [
            "\u001b[0;31m---------------------------------------------------------------------------\u001b[0m",
            "\u001b[0;31mValueError\u001b[0m                                Traceback (most recent call last)",
            "\u001b[0;32m<ipython-input-129-e5b8ab55b721>\u001b[0m in \u001b[0;36m<module>\u001b[0;34m()\u001b[0m\n\u001b[0;32m----> 1\u001b[0;31m \u001b[0m_\u001b[0m \u001b[0;34m=\u001b[0m \u001b[0mplt\u001b[0m\u001b[0;34m.\u001b[0m\u001b[0mplot\u001b[0m\u001b[0;34m(\u001b[0m\u001b[0mx\u001b[0m \u001b[0;34m=\u001b[0m \u001b[0;34m'date'\u001b[0m\u001b[0;34m,\u001b[0m \u001b[0my\u001b[0m \u001b[0;34m=\u001b[0m \u001b[0;34m'visitId'\u001b[0m\u001b[0;34m,\u001b[0m \u001b[0mdata\u001b[0m \u001b[0;34m=\u001b[0m \u001b[0mdf1\u001b[0m\u001b[0;34m,\u001b[0m \u001b[0mkind\u001b[0m \u001b[0;34m=\u001b[0m \u001b[0;34m'line'\u001b[0m\u001b[0;34m)\u001b[0m\u001b[0;34m\u001b[0m\u001b[0m\n\u001b[0m",
            "\u001b[0;32m/usr/local/lib/python3.6/dist-packages/matplotlib/pyplot.py\u001b[0m in \u001b[0;36mplot\u001b[0;34m(*args, **kwargs)\u001b[0m\n\u001b[1;32m   3259\u001b[0m                       mplDeprecation)\n\u001b[1;32m   3260\u001b[0m     \u001b[0;32mtry\u001b[0m\u001b[0;34m:\u001b[0m\u001b[0;34m\u001b[0m\u001b[0m\n\u001b[0;32m-> 3261\u001b[0;31m         \u001b[0mret\u001b[0m \u001b[0;34m=\u001b[0m \u001b[0max\u001b[0m\u001b[0;34m.\u001b[0m\u001b[0mplot\u001b[0m\u001b[0;34m(\u001b[0m\u001b[0;34m*\u001b[0m\u001b[0margs\u001b[0m\u001b[0;34m,\u001b[0m \u001b[0;34m**\u001b[0m\u001b[0mkwargs\u001b[0m\u001b[0;34m)\u001b[0m\u001b[0;34m\u001b[0m\u001b[0m\n\u001b[0m\u001b[1;32m   3262\u001b[0m     \u001b[0;32mfinally\u001b[0m\u001b[0;34m:\u001b[0m\u001b[0;34m\u001b[0m\u001b[0m\n\u001b[1;32m   3263\u001b[0m         \u001b[0max\u001b[0m\u001b[0;34m.\u001b[0m\u001b[0m_hold\u001b[0m \u001b[0;34m=\u001b[0m \u001b[0mwashold\u001b[0m\u001b[0;34m\u001b[0m\u001b[0m\n",
            "\u001b[0;32m/usr/local/lib/python3.6/dist-packages/matplotlib/__init__.py\u001b[0m in \u001b[0;36minner\u001b[0;34m(ax, *args, **kwargs)\u001b[0m\n\u001b[1;32m   1653\u001b[0m                     \u001b[0;31m# update the information about replace names and\u001b[0m\u001b[0;34m\u001b[0m\u001b[0;34m\u001b[0m\u001b[0m\n\u001b[1;32m   1654\u001b[0m                     \u001b[0;31m# label position\u001b[0m\u001b[0;34m\u001b[0m\u001b[0;34m\u001b[0m\u001b[0m\n\u001b[0;32m-> 1655\u001b[0;31m                     \u001b[0m_arg_names\u001b[0m \u001b[0;34m=\u001b[0m \u001b[0mpositional_parameter_names\u001b[0m\u001b[0;34m(\u001b[0m\u001b[0margs\u001b[0m\u001b[0;34m,\u001b[0m \u001b[0mdata\u001b[0m\u001b[0;34m)\u001b[0m\u001b[0;34m\u001b[0m\u001b[0m\n\u001b[0m\u001b[1;32m   1656\u001b[0m                     if (label_namer and  # we actually want a label here ...\n\u001b[1;32m   1657\u001b[0m                             \u001b[0m_arg_names\u001b[0m \u001b[0;32mand\u001b[0m  \u001b[0;31m# and we can find a label in *args\u001b[0m\u001b[0;34m\u001b[0m\u001b[0m\n",
            "\u001b[0;32m/usr/local/lib/python3.6/dist-packages/matplotlib/axes/_axes.py\u001b[0m in \u001b[0;36m_plot_args_replacer\u001b[0;34m(args, data)\u001b[0m\n\u001b[1;32m     83\u001b[0m         \u001b[0;32mreturn\u001b[0m \u001b[0;34m[\u001b[0m\u001b[0;34m\"x\"\u001b[0m\u001b[0;34m,\u001b[0m \u001b[0;34m\"y\"\u001b[0m\u001b[0;34m,\u001b[0m \u001b[0;34m\"c\"\u001b[0m\u001b[0;34m]\u001b[0m\u001b[0;34m\u001b[0m\u001b[0m\n\u001b[1;32m     84\u001b[0m     \u001b[0;32melse\u001b[0m\u001b[0;34m:\u001b[0m\u001b[0;34m\u001b[0m\u001b[0m\n\u001b[0;32m---> 85\u001b[0;31m         raise ValueError(\"Using arbitrary long args with data is not \"\n\u001b[0m\u001b[1;32m     86\u001b[0m                          \u001b[0;34m\"supported due to ambiguity of arguments.\\nUse \"\u001b[0m\u001b[0;34m\u001b[0m\u001b[0m\n\u001b[1;32m     87\u001b[0m                          \"multiple plotting calls instead.\")\n",
            "\u001b[0;31mValueError\u001b[0m: Using arbitrary long args with data is not supported due to ambiguity of arguments.\nUse multiple plotting calls instead."
          ]
        },
        {
          "output_type": "display_data",
          "data": {
            "image/png": "[encoded data removed]",
            "text/plain": [
              "<matplotlib.figure.Figure at 0x7fc70fb9b898>"
            ]
          },
          "metadata": {
            "tags": []
          }
        }
      ]
    },
    {
      "metadata": {
        "id": "7Yz7KX_T8o-F",
        "colab_type": "code",
        "colab": {}
      },
      "cell_type": "code",
      "source": [
        ""
      ],
      "execution_count": 0,
      "outputs": []
    },
    {
      "metadata": {
        "id": "MCdCxYOP8pMc",
        "colab_type": "code",
        "colab": {}
      },
      "cell_type": "code",
      "source": [
        ""
      ],
      "execution_count": 0,
      "outputs": []
    },
    {
      "metadata": {
        "id": "Rn7KI05_8pWo",
        "colab_type": "code",
        "colab": {}
      },
      "cell_type": "code",
      "source": [
        ""
      ],
      "execution_count": 0,
      "outputs": []
    },
    {
      "metadata": {
        "id": "AjWaKI5e8pUe",
        "colab_type": "code",
        "colab": {}
      },
      "cell_type": "code",
      "source": [
        ""
      ],
      "execution_count": 0,
      "outputs": []
    },
    {
      "metadata": {
        "id": "WnuMAEfr8pRy",
        "colab_type": "code",
        "colab": {}
      },
      "cell_type": "code",
      "source": [
        ""
      ],
      "execution_count": 0,
      "outputs": []
    },
    {
      "metadata": {
        "id": "i7zYqUub8pJ7",
        "colab_type": "code",
        "colab": {}
      },
      "cell_type": "code",
      "source": [
        ""
      ],
      "execution_count": 0,
      "outputs": []
    },
    {
      "metadata": {
        "id": "MR1uvP-8fONW",
        "colab_type": "text"
      },
      "cell_type": "markdown",
      "source": [
        "# New Features"
      ]
    },
    {
      "metadata": {
        "id": "aoQKssGmgByj",
        "colab_type": "code",
        "colab": {
          "base_uri": "https://localhost:8080/",
          "height": 35
        },
        "outputId": "7add5d1d-f3c2-467a-a907-93dc3ada646b"
      },
      "cell_type": "code",
      "source": [
        "#What is the revenue by unique and non -unique customers. if revenue by non-unique is more\n",
        "#then we should see the time between visits if that had corellation. if it does then it can be a feature and added into the model\n",
        "unique_vistors = df1['fullVisitorId'].unique()\n",
        "unique_vistors"
      ],
      "execution_count": 56,
      "outputs": [
        {
          "output_type": "execute_result",
          "data": {
            "text/plain": [
              "array([1.13166e+18, 3.77306e+17, 3.89555e+18, ..., 2.14015e+18, 5.12378e+18, 5.74458e+18], dtype=object)"
            ]
          },
          "metadata": {
            "tags": []
          },
          "execution_count": 56
        }
      ]
    },
    {
      "metadata": {
        "id": "y5pXZSe4jXf_",
        "colab_type": "code",
        "colab": {}
      },
      "cell_type": "code",
      "source": [
        "#time since last visit could be an important feature. Hypothesis: If time between visits is less there is a higher chance of purchase\n",
        "df1['timesincelastvisit'] = df1.sort_values(['fullVisitorId', 'visitStartTime']).groupby('fullVisitorId')['visitStartTime'].diff()"
      ],
      "execution_count": 0,
      "outputs": []
    },
    {
      "metadata": {
        "id": "f2i98iecy-NC",
        "colab_type": "code",
        "colab": {}
      },
      "cell_type": "code",
      "source": [
        "# Get hour from timesincelastvisit column\n",
        "df1['timesincelastvisit_Hour'] = pd.to_datetime(df1['timesincelastvisit'], unit='s').dt.hour"
      ],
      "execution_count": 0,
      "outputs": []
    },
    {
      "metadata": {
        "id": "3qI-RQrJpGi7",
        "colab_type": "code",
        "colab": {
          "base_uri": "https://localhost:8080/",
          "height": 400
        },
        "outputId": "26e9ff64-3ee4-49b6-e45c-9683a89af89f"
      },
      "cell_type": "code",
      "source": [
        "df1.groupby(['timesincelastvisit_Hour'])['totals.transactionRevenue'].sum().plot(kind = 'bar')"
      ],
      "execution_count": 115,
      "outputs": [
        {
          "output_type": "execute_result",
          "data": {
            "text/plain": [
              "<matplotlib.axes._subplots.AxesSubplot at 0x7fc72016d2b0>"
            ]
          },
          "metadata": {
            "tags": []
          },
          "execution_count": 115
        },
        {
          "output_type": "display_data",
          "data": {
            "image/png": "[encoded data removed]",
            "text/plain": [
              "<matplotlib.figure.Figure at 0x7fc72016dac8>"
            ]
          },
          "metadata": {
            "tags": []
          }
        }
      ]
    },
    {
      "metadata": {
        "id": "O3VNDBHd1ICK",
        "colab_type": "text"
      },
      "cell_type": "markdown",
      "source": [
        "Not sure how to replace null values"
      ]
    },
    {
      "metadata": {
        "id": "Az79hYhUpWmc",
        "colab_type": "code",
        "colab": {
          "base_uri": "https://localhost:8080/",
          "height": 35
        },
        "outputId": "e22fb127-5577-4d6a-8791-41166af98e8a"
      },
      "cell_type": "code",
      "source": [
        "filter1 = df1['timesincelastvisit_Hour'] >=0\n",
        "visit_time = df1[filter1]['totals.transactionRevenue'].sum()\n",
        "visit_time"
      ],
      "execution_count": 111,
      "outputs": [
        {
          "output_type": "execute_result",
          "data": {
            "text/plain": [
              "1212720270000.0"
            ]
          },
          "metadata": {
            "tags": []
          },
          "execution_count": 111
        }
      ]
    },
    {
      "metadata": {
        "id": "uXnuThwN5iY-",
        "colab_type": "code",
        "colab": {
          "base_uri": "https://localhost:8080/",
          "height": 35
        },
        "outputId": "4808e232-2014-40db-d5c6-96d1749dc719"
      },
      "cell_type": "code",
      "source": [
        "visit_time/df1['totals.transactionRevenue'].sum()"
      ],
      "execution_count": 112,
      "outputs": [
        {
          "output_type": "execute_result",
          "data": {
            "text/plain": [
              "0.7874442678378956"
            ]
          },
          "metadata": {
            "tags": []
          },
          "execution_count": 112
        }
      ]
    },
    {
      "metadata": {
        "id": "MdiVQ_Iz5M9V",
        "colab_type": "text"
      },
      "cell_type": "markdown",
      "source": [
        "78% of the revenue comes from repeat visitors"
      ]
    },
    {
      "metadata": {
        "id": "fSh1rOMTgUFi",
        "colab_type": "text"
      },
      "cell_type": "markdown",
      "source": [
        "#Model - ML"
      ]
    },
    {
      "metadata": {
        "id": "ijnFylPsgV_A",
        "colab_type": "code",
        "colab": {}
      },
      "cell_type": "code",
      "source": [
        "df1[df1.select_dtypes(['object']).columns] = df1.select_dtypes(['object']).apply(lambda x: x.astype('category'))"
      ],
      "execution_count": 0,
      "outputs": []
    },
    {
      "metadata": {
        "id": "y3rOb44dAXNa",
        "colab_type": "code",
        "colab": {}
      },
      "cell_type": "code",
      "source": [
        "le = LabelEncoder()\n",
        "df1[df1.select_dtypes(['category']).columns] = le.fit_transform(df1.select_dtypes(['category']).columns)"
      ],
      "execution_count": 0,
      "outputs": []
    },
    {
      "metadata": {
        "id": "y6X6ZW_8AbOo",
        "colab_type": "code",
        "colab": {}
      },
      "cell_type": "code",
      "source": [
        "from sklearn.preprocessing import LabelEncoder\n",
        "from sklearn import model_selection\n",
        "from sklearn.ensemble import RandomForestClassifier\n",
        "from sklearn.metrics import precision_recall_fscore_support as score\n",
        "from sklearn.model_selection import train_test_split\n",
        "from sklearn.linear_model import LogisticRegression\n",
        "from sklearn import tree\n",
        "from sklearn.ensemble import RandomForestRegressor"
      ],
      "execution_count": 0,
      "outputs": []
    },
    {
      "metadata": {
        "id": "2Femj4LgAewZ",
        "colab_type": "code",
        "colab": {}
      },
      "cell_type": "code",
      "source": [
        "m = RandomForestRegressor(n_jobs = -1)\n",
        "m.fit(df1.drop(['totals.transactionRevenue', 'visitStartTime', 'date', 'trafficSource.adContent', 'trafficSource.adwordsClickInfo.adNetworkType', 'trafficSource.adwordsClickInfo.gclId', 'trafficSource.adwordsClickInfo.isVideoAd','trafficSource.adwordsClickInfo.page', 'trafficSource.adwordsClickInfo.slot', 'trafficSource.isTrueDirect', 'trafficSource.keyword'],axis = 1), df1['totals.transactionRevenue'])"
      ],
      "execution_count": 0,
      "outputs": []
    }
  ]
}